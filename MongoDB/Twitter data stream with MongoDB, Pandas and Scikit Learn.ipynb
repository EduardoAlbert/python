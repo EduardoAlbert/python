{
 "nbformat": 4,
 "nbformat_minor": 2,
 "metadata": {
  "language_info": {
   "name": "python",
   "codemirror_mode": {
    "name": "ipython",
    "version": 3
   },
   "version": "3.6.5"
  },
  "orig_nbformat": 2,
  "file_extension": ".py",
  "mimetype": "text/x-python",
  "name": "python",
  "npconvert_exporter": "python",
  "pygments_lexer": "ipython3",
  "version": 3
 },
 "cells": [
  {
   "cell_type": "code",
   "execution_count": null,
   "metadata": {},
   "outputs": [],
   "source": [
    "# pip install tweepy"
   ]
  },
  {
   "cell_type": "code",
   "execution_count": 1,
   "metadata": {},
   "outputs": [],
   "source": [
    "# Importando os módulos Tweepy, Datetime e Json\n",
    "from tweepy.streaming import StreamListener\n",
    "from tweepy import OAuthHandler\n",
    "from tweepy import Stream\n",
    "from datetime import datetime\n",
    "import json"
   ]
  },
  {
   "cell_type": "code",
   "execution_count": 2,
   "metadata": {},
   "outputs": [],
   "source": [
    "consumer_key = \"xGTLkOSusqllTB3HydEaFYLec\""
   ]
  },
  {
   "cell_type": "code",
   "execution_count": 3,
   "metadata": {},
   "outputs": [],
   "source": [
    "consumer_secret = \"UJ3VWUOG7QofcUzzyvzgV7ycJUAIhgwyuW9THfW71xrbmVchfB\""
   ]
  },
  {
   "cell_type": "code",
   "execution_count": 4,
   "metadata": {},
   "outputs": [],
   "source": [
    "access_token = \"1177020709593329664-7TWhLuQnZcYvnpRkS3P16wX4LMTpFb\""
   ]
  },
  {
   "cell_type": "code",
   "execution_count": 5,
   "metadata": {},
   "outputs": [],
   "source": [
    "access_token_secret = \"e2a9DPDG9Mp1k2o6RnDNwhUOqHyGMSITiN5N0YDaHhybf\""
   ]
  },
  {
   "cell_type": "code",
   "execution_count": 6,
   "metadata": {},
   "outputs": [],
   "source": [
    "# Criando as chaves de autenticação\n",
    "auth = OAuthHandler(consumer_key, consumer_secret)"
   ]
  },
  {
   "cell_type": "code",
   "execution_count": 7,
   "metadata": {},
   "outputs": [],
   "source": [
    "auth.set_access_token(access_token, access_token_secret)"
   ]
  },
  {
   "cell_type": "code",
   "execution_count": 8,
   "metadata": {},
   "outputs": [],
   "source": [
    "# Criando uma classe para capturar os stream de dados do Twitter e \n",
    "# armazenar no MongoDB\n",
    "class MyListener(StreamListener):\n",
    "    def on_data(self, dados):\n",
    "        tweet = json.loads(dados)\n",
    "        created_at = tweet['created_at']\n",
    "        id_str = tweet['id_str']\n",
    "        text = tweet['text']\n",
    "        obj = {'created_at':created_at, 'id_str':id_str, 'text':text}\n",
    "        tweetind = col.insert_one(obj).inserted_id\n",
    "        print(obj)\n",
    "        return True"
   ]
  },
  {
   "cell_type": "code",
   "execution_count": 9,
   "metadata": {},
   "outputs": [],
   "source": [
    "# Criando o objeto mylistener\n",
    "mylistener = MyListener()"
   ]
  },
  {
   "cell_type": "code",
   "execution_count": 10,
   "metadata": {},
   "outputs": [],
   "source": [
    "# Criando o objeto mystream\n",
    "mystream = Stream(auth, listener = mylistener)"
   ]
  },
  {
   "cell_type": "markdown",
   "execution_count": null,
   "metadata": {},
   "outputs": [],
   "source": [
    "Preparando a conexão com o MongoDB"
   ]
  },
  {
   "cell_type": "code",
   "execution_count": 11,
   "metadata": {},
   "outputs": [],
   "source": [
    "from pymongo import MongoClient"
   ]
  },
  {
   "cell_type": "code",
   "execution_count": 12,
   "metadata": {},
   "outputs": [],
   "source": [
    "client = MongoClient('localhost', 27017)"
   ]
  },
  {
   "cell_type": "code",
   "execution_count": 13,
   "metadata": {},
   "outputs": [],
   "source": [
    "# Criando o banco de dados twitterdb\n",
    "db = client.twitterdb"
   ]
  },
  {
   "cell_type": "code",
   "execution_count": 14,
   "metadata": {},
   "outputs": [],
   "source": [
    "# Criando a collection \"col\"\n",
    "col = db.tweets"
   ]
  },
  {
   "cell_type": "code",
   "execution_count": 15,
   "metadata": {},
   "outputs": [],
   "source": [
    "# Criando uma lista de palavras chave para buscar nos Tweets\n",
    "keywords = ['Big Data', 'Python', 'Data Mining', 'Data Science']"
   ]
  },
  {
   "cell_type": "markdown",
   "execution_count": null,
   "metadata": {},
   "outputs": [],
   "source": [
    "Coletando os Tweets"
   ]
  },
  {
   "cell_type": "code",
   "execution_count": 17,
   "metadata": {},
   "outputs": [
    {
     "name": "stdout",
     "output_type": "stream",
     "text": "{'created_at': 'Fri Nov 22 18:30:01 +0000 2019', 'id_str': '1197945344883077122', 'text': 'Carlos Morrás: \"Gracias al Big data se está avanzando mucho en la detección de enfermedades\". Descubre el lado más… https://t.co/CjIG0U1UkE', '_id': ObjectId('5dd8291e07b6436a788e2161')}\n{'created_at': 'Fri Nov 22 18:30:01 +0000 2019', 'id_str': '1197945345977864192', 'text': 'Only 1 month 9 days 5 hours 29 minutes left until Python 2 retires', '_id': ObjectId('5dd8291f07b6436a788e2162')}\n{'created_at': 'Fri Nov 22 18:30:03 +0000 2019', 'id_str': '1197945352575488007', 'text': 'RT @ThisIsAbtin: With Gopher snakes who wants python? #Gophers #golang #python https://t.co/RxBlKhUXcP', '_id': ObjectId('5dd8292007b6436a788e2163')}\n{'created_at': 'Fri Nov 22 18:30:03 +0000 2019', 'id_str': '1197945353754087424', 'text': 'RT @ProgrammerBooks: CCDA 200-310 Official Cert Guide, 5th Edition ==&gt; https://t.co/mfnRSxigFG\\n\\n#python #javascript #angular #reactjs #vuej…', '_id': ObjectId('5dd8292007b6436a788e2164')}\n{'created_at': 'Fri Nov 22 18:30:04 +0000 2019', 'id_str': '1197945357172387847', 'text': '☀ Hiring: #QA Tester with strong SQL and Big Data at Irvine, CA\\n#AI #Analyst #BigData #Developer #Irvine #techjobs… https://t.co/mUCNXIdMyf', '_id': ObjectId('5dd8292107b6436a788e2165')}\n{'created_at': 'Fri Nov 22 18:30:05 +0000 2019', 'id_str': '1197945360423038977', 'text': 'RT @ThisIsAbtin: With Gopher snakes who wants python? #Gophers #golang #python https://t.co/RxBlKhUXcP', '_id': ObjectId('5dd8292207b6436a788e2166')}\n{'created_at': 'Fri Nov 22 18:30:05 +0000 2019', 'id_str': '1197945362314457088', 'text': 'RT @ProgrammerBooks: CCDA 200-310 Official Cert Guide, 5th Edition ==&gt; https://t.co/mfnRSxigFG\\n\\n#python #javascript #angular #reactjs #vuej…', '_id': ObjectId('5dd8292207b6436a788e2167')}\n{'created_at': 'Fri Nov 22 18:30:06 +0000 2019', 'id_str': '1197945366794121216', 'text': '2020 is just around the corner! And Data Science is one of the hottest markets right now. If you are interested in… https://t.co/g8514PRnWO', '_id': ObjectId('5dd8292407b6436a788e2168')}\n{'created_at': 'Fri Nov 22 18:30:08 +0000 2019', 'id_str': '1197945372930453506', 'text': 'RT @ProgrammerBooks: CCDA 200-310 Official Cert Guide, 5th Edition ==&gt; https://t.co/mfnRSxigFG\\n\\n#python #javascript #angular #reactjs #vuej…', '_id': ObjectId('5dd8292507b6436a788e2169')}\n{'created_at': 'Fri Nov 22 18:30:09 +0000 2019', 'id_str': '1197945376252350464', 'text': 'Big data set to define the role of an asset manager https://t.co/AXCp65luZV #BigData #DataAnalysis', '_id': ObjectId('5dd8292607b6436a788e216a')}\n{'created_at': 'Fri Nov 22 18:30:09 +0000 2019', 'id_str': '1197945377883926528', 'text': '@rshields37 A Florida dog is an escaped pet python so this makes no sense', '_id': ObjectId('5dd8292607b6436a788e216b')}\n{'created_at': 'Fri Nov 22 18:30:10 +0000 2019', 'id_str': '1197945384007618560', 'text': 'RT @thedailyhunch: Unlike its opposite, Gemini, Sag is concerned with more than information, trivia, and data for curiosity’s sake. Sagitta…', '_id': ObjectId('5dd8292807b6436a788e216c')}\n{'created_at': 'Fri Nov 22 18:30:15 +0000 2019', 'id_str': '1197945401833209856', 'text': \"@RobinMazumder https://t.co/foFJMnhoF1 has nicely curated tutorials. The hitchhiker's guide to python is free onlin… https://t.co/aEdUcvyMEl\", '_id': ObjectId('5dd8292c07b6436a788e216d')}\n{'created_at': 'Fri Nov 22 18:30:18 +0000 2019', 'id_str': '1197945416899321856', 'text': 'RT @The_Python_DEV: This article explains some of the most important factors that make Python so useful and popular.\\nWhether you’re interes…', '_id': ObjectId('5dd8292f07b6436a788e216e')}\n{'created_at': 'Fri Nov 22 18:30:21 +0000 2019', 'id_str': '1197945429670977537', 'text': \"I'll dive into the big data so you don't have to! https://t.co/Ggy4CPVcsy https://t.co/n2CEg7r1Le\", '_id': ObjectId('5dd8293307b6436a788e216f')}\n{'created_at': 'Fri Nov 22 18:30:22 +0000 2019', 'id_str': '1197945430891474945', 'text': 'How to Build Your Own Logistic Regression Model in Python #python #kdnuggets #logisticregression #scientist https://t.co/iUyStGoIl0', '_id': ObjectId('5dd8293307b6436a788e2170')}\n{'created_at': 'Fri Nov 22 18:30:25 +0000 2019', 'id_str': '1197945443625447425', 'text': 'RT @cichuck: Interesting... Netflix open-sources Polynote to simplify data science and machine learning workflows - VentureBeat\\n\\n#tech #tec…', '_id': ObjectId('5dd8293607b6436a788e2171')}\n{'created_at': 'Fri Nov 22 18:30:25 +0000 2019', 'id_str': '1197945445135388673', 'text': '#Spectrum My #InternetSpeed :\\nPing: 28.772 ms\\nDownload: 217.91 Mbit/s\\nUpload: 11.29 Mbit/s\\n#automagic #python #corporateaccountability', '_id': ObjectId('5dd8293607b6436a788e2172')}\n{'created_at': 'Fri Nov 22 18:30:25 +0000 2019', 'id_str': '1197945446762717184', 'text': \"#AI makes for better salespeople and more efficient sales processes, writes @rschmelzer in @Forbes. Here's how. https://t.co/I8C3jW3zVk\", '_id': ObjectId('5dd8293707b6436a788e2173')}\n{'created_at': 'Fri Nov 22 18:30:28 +0000 2019', 'id_str': '1197945456879374336', 'text': 'Meet Kait! She is an Analytics Engineer at VSP Global and the Creative Strategy &amp; Growth Manager for WID. She is a… https://t.co/Dad4M1HPES', '_id': ObjectId('5dd8293907b6436a788e2174')}\n{'created_at': 'Fri Nov 22 18:30:29 +0000 2019', 'id_str': '1197945460255797254', 'text': \"Can't wait to hear more from @LoweCM @DavidKTN\\n@__AlsoKnownAs @kateparkinsonuk @numenavr about XR and ethics and da… https://t.co/9jwuYSR9Nz\", '_id': ObjectId('5dd8293a07b6436a788e2175')}\n{'created_at': 'Fri Nov 22 18:30:30 +0000 2019', 'id_str': '1197945466274664449', 'text': 'RT @CMU_Stats: Congratulations to @CMU_Stats @CMU_DietrichHSS Rebecca Nugent on receiving the Stephen E and Joyce Fienberg Professorship In…', '_id': ObjectId('5dd8293b07b6436a788e2176')}\n{'created_at': 'Fri Nov 22 18:30:31 +0000 2019', 'id_str': '1197945470271795207', 'text': '@AliceJurak To nije iznenađenje ,trebala je osuditi bicklistu što se prerušio u jelena ,Monty Python 😄', '_id': ObjectId('5dd8293c07b6436a788e2177')}\n{'created_at': 'Fri Nov 22 18:30:33 +0000 2019', 'id_str': '1197945477804810240', 'text': 'RT @pcoronaf: Un problema a común en varias vulneraciones han sido lo buckets S3 con permisos de acceso público. Veo MUY pocos caso de uso…', '_id': ObjectId('5dd8293e07b6436a788e2178')}\n{'created_at': 'Fri Nov 22 18:30:35 +0000 2019', 'id_str': '1197945487673962496', 'text': 'RT @ecuarauz: Es tan sencillo como lo siguiente:\\n\\nLa OEA proyectó la tendencia nacional con \"regla de tres\".\\n\\nEl CEPR proyectó cada recinto…', '_id': ObjectId('5dd8294007b6436a788e2179')}\n{'created_at': 'Fri Nov 22 18:30:37 +0000 2019', 'id_str': '1197945493768298496', 'text': 'How to build a successful #app! \\n\\n#python #java #javascript #ruby #rubyonrails #programming #business #code #data… https://t.co/f6yBv2pjhJ', '_id': ObjectId('5dd8294207b6436a788e217a')}\n{'created_at': 'Fri Nov 22 18:30:37 +0000 2019', 'id_str': '1197945496599498752', 'text': 'RT @Yangolution: #MSNBCFearsYang Because data will no longer be signed over to Comcast (owner of MSNBC), Facebook, Google, and so on. Data…', '_id': ObjectId('5dd8294207b6436a788e217b')}\n{'created_at': 'Fri Nov 22 18:30:41 +0000 2019', 'id_str': '1197945510063202304', 'text': 'The smart people who drive real business innovation may not all be coders. With Vantage Analyst, they can explore… https://t.co/AXwRjlC1R6', '_id': ObjectId('5dd8294607b6436a788e217c')}\n{'created_at': 'Fri Nov 22 18:30:43 +0000 2019', 'id_str': '1197945519466827776', 'text': 'RT @r3c0nst: Just published my #IDAPython scripts to reconstruct  Microsoft COM-Code. Tested on #IDAPro v7.4 and Python v2+3 =&gt; Happy rever…', '_id': ObjectId('5dd8294807b6436a788e217d')}\n{'created_at': 'Fri Nov 22 18:30:43 +0000 2019', 'id_str': '1197945520850964480', 'text': 'Data Science and Machine Learning: Lab Set Up &amp; Installation https://t.co/7QPVMgnmbC https://t.co/hNljTooGZJ', '_id': ObjectId('5dd8294807b6436a788e217e')}\n{'created_at': 'Fri Nov 22 18:30:44 +0000 2019', 'id_str': '1197945525091344384', 'text': 'RT @AverettU1859: Collaboration at its best! Averett and @vcomvirginia today announced collaboration for an exclusive Master of Science in…', '_id': ObjectId('5dd8294907b6436a788e217f')}\n{'created_at': 'Fri Nov 22 18:30:50 +0000 2019', 'id_str': '1197945550064279552', 'text': 'EBOOK Download Python Machine Learning: Machine Learning and Deep Learning with Python, scikit-learn, and TensorFlo… https://t.co/HLSVbpx309', '_id': ObjectId('5dd8294f07b6436a788e2180')}\n{'created_at': 'Fri Nov 22 18:30:54 +0000 2019', 'id_str': '1197945568003276811', 'text': 'Check out my Gig on Fiverr: do excel data entry spreadsheet, web research, data collection, data mining https://t.co/YtuL0J4fTN', '_id': ObjectId('5dd8295307b6436a788e2181')}\n{'created_at': 'Fri Nov 22 18:30:58 +0000 2019', 'id_str': '1197945584243658752', 'text': '(2)\\n\\nWhich of these do you think you can dedicate 2 hours daily for 8 weeks to learn for free in 2020? - Artificial… https://t.co/hg6M7P1hk8', '_id': ObjectId('5dd8295707b6436a788e2182')}\n{'created_at': 'Fri Nov 22 18:30:58 +0000 2019', 'id_str': '1197945584751132672', 'text': 'RT @Amy_Siskind: I am checking out this alternative to Facebook.  I am hoping we can find a better place to meet up. Facebook has been mini…', '_id': ObjectId('5dd8295707b6436a788e2183')}\n{'created_at': 'Fri Nov 22 18:31:04 +0000 2019', 'id_str': '1197945610495762433', 'text': 'RT @6Polymath: @BuckSexton @moulton_anne The Monty Python Troupe pegged The New Left 45 years ago. Here are two short videos as proof.\\nHere…', '_id': ObjectId('5dd8295e07b6436a788e2184')}\n{'created_at': 'Fri Nov 22 18:31:06 +0000 2019', 'id_str': '1197945616795652096', 'text': 'RT @MikeAshfield3: Absolutely loving @DataCamp, I\\'ve gone from \"Hello World!\" to processing thousands of rows of data in less than 12hrs! A…', '_id': ObjectId('5dd8295f07b6436a788e2185')}\n{'created_at': 'Fri Nov 22 18:31:07 +0000 2019', 'id_str': '1197945619245142016', 'text': 'RT @Deep_In_Depth: NASA applying AI technologies to problems in space science https://t.co/XOtuWhCsbs #DeepLearning #MachineLearning #Artif…', '_id': ObjectId('5dd8296007b6436a788e2186')}\n{'created_at': 'Fri Nov 22 18:31:07 +0000 2019', 'id_str': '1197945622600519681', 'text': 'RT @BeardySmeardy: #Spectrum My #InternetSpeed :\\nPing: 28.772 ms\\nDownload: 217.91 Mbit/s\\nUpload: 11.29 Mbit/s\\n#automagic #python #corporate…', '_id': ObjectId('5dd8296107b6436a788e2187')}\n{'created_at': 'Fri Nov 22 18:31:11 +0000 2019', 'id_str': '1197945637851021313', 'text': 'RT @esacrosa: Acabo de escuchar a un nene de 11 años contar que completó ochenta cursos de programación online y tiene tres títulos (nanode…', '_id': ObjectId('5dd8296407b6436a788e2188')}\n{'created_at': 'Fri Nov 22 18:31:14 +0000 2019', 'id_str': '1197945649221832704', 'text': 'RT @StillCrankyAF: History repeats.\\n\\nFirst as farce then as far-leftist dogma. https://t.co/ua5YHqdb2S', '_id': ObjectId('5dd8296707b6436a788e2189')}\n{'created_at': 'Fri Nov 22 18:31:19 +0000 2019', 'id_str': '1197945672122519552', 'text': 'This is great news #FAU has received the Univesity of Distinction for #AI Applied Artificial Intelligence and… https://t.co/nnv9MWD2v4', '_id': ObjectId('5dd8296c07b6436a788e218a')}\n{'created_at': 'Fri Nov 22 18:31:30 +0000 2019', 'id_str': '1197945719287615488', 'text': 'For those of us lucky to know the Fienbergs in life -- and Rebecca Nugent too -- you know what an honor this is.', '_id': ObjectId('5dd8297807b6436a788e218b')}\n{'created_at': 'Fri Nov 22 18:31:31 +0000 2019', 'id_str': '1197945722588368897', 'text': 'Reduce Pandas memory usage by loading less data  https://t.co/cC1f7pXrVa by @itamarst #Python #Pandas', '_id': ObjectId('5dd8297807b6436a788e218c')}\n{'created_at': 'Fri Nov 22 18:31:31 +0000 2019', 'id_str': '1197945723813273601', 'text': 'python 자료구조(2) #python https://t.co/aEprA7tKbz', '_id': ObjectId('5dd8297907b6436a788e218d')}\n{'created_at': 'Fri Nov 22 18:31:41 +0000 2019', 'id_str': '1197945763248119809', 'text': 'RT @lukedepulford: Important from @Johnny_HKWatch\\n\\n@GOVUK Huawei deal isn’t just bad because it compromises security. \\n\\nIt’s bad because Hu…', '_id': ObjectId('5dd8298207b6436a788e218e')}\n{'created_at': 'Fri Nov 22 18:31:42 +0000 2019', 'id_str': '1197945767312461824', 'text': 'Just created a disk/file encryption and decryption tool in #python.  Maybe it’s helpful for other’s. It uses aes an… https://t.co/5u5aeDfYXP', '_id': ObjectId('5dd8298307b6436a788e218f')}\n{'created_at': 'Fri Nov 22 18:31:44 +0000 2019', 'id_str': '1197945776237948929', 'text': 'RT @juddsaul: Monty Python was way ahead of their time. https://t.co/GyIP0CHh6C', '_id': ObjectId('5dd8298507b6436a788e2190')}\n{'created_at': 'Fri Nov 22 18:31:45 +0000 2019', 'id_str': '1197945780272848929', 'text': \"RT @BabuuDx: @louisakjames Truly speaking , i'm more fond of solid work with relevant data, not a complete collection of massive data. Mess…\", '_id': ObjectId('5dd8298607b6436a788e2191')}\n{'created_at': 'Fri Nov 22 18:31:45 +0000 2019', 'id_str': '1197945780939763712', 'text': 'RT @Amy_Siskind: I am checking out this alternative to Facebook.  I am hoping we can find a better place to meet up. Facebook has been mini…', '_id': ObjectId('5dd8298607b6436a788e2192')}\n{'created_at': 'Fri Nov 22 18:31:47 +0000 2019', 'id_str': '1197945790234120192', 'text': 'RT @aicdev: Just created a disk/file encryption and decryption tool in #python.  Maybe it’s helpful for other’s. It uses aes and rsa as hyb…', '_id': ObjectId('5dd8298807b6436a788e2193')}\n{'created_at': 'Fri Nov 22 18:31:48 +0000 2019', 'id_str': '1197945795133214727', 'text': 'RT @TanukiMaria: I love how \"Monty Python\\'s Holy Grail\", a sketch comedy flick directed with a low budget, and \"Fate/Zero\", a grimdark anim…', '_id': ObjectId('5dd8298a07b6436a788e2194')}\n{'created_at': 'Fri Nov 22 18:31:50 +0000 2019', 'id_str': '1197945802510999552', 'text': 'RT @mathegram: Thank  @tugraz for providing excellent #IT facilities @mathegram #ATC1, enabling us to have many interesting hands-on sessio…', '_id': ObjectId('5dd8298b07b6436a788e2195')}\n{'created_at': 'Fri Nov 22 18:31:52 +0000 2019', 'id_str': '1197945809951698944', 'text': 'RT @MikeAshfield3: Absolutely loving @DataCamp, I\\'ve gone from \"Hello World!\" to processing thousands of rows of data in less than 12hrs! A…', '_id': ObjectId('5dd8298d07b6436a788e2196')}\n{'created_at': 'Fri Nov 22 18:31:53 +0000 2019', 'id_str': '1197945812996808704', 'text': 'https://t.co/YQXLBcE6Bc', '_id': ObjectId('5dd8298e07b6436a788e2197')}\n{'created_at': 'Fri Nov 22 18:31:56 +0000 2019', 'id_str': '1197945825978208262', 'text': 'RT @GilenoFilho: Deveria ser crime usar o Oracle, com Python pena de morte', '_id': ObjectId('5dd8299107b6436a788e2198')}\n{'created_at': 'Fri Nov 22 18:32:00 +0000 2019', 'id_str': '1197945841840984066', 'text': 'Is you tweetbot on python 2.7 or python 3 ?', '_id': ObjectId('5dd8299507b6436a788e2199')}\n{'created_at': 'Fri Nov 22 18:31:58 +0000 2019', 'id_str': '1197945833821495298', 'text': 'RT @juddsaul: Monty Python was way ahead of their time. https://t.co/GyIP0CHh6C', '_id': ObjectId('5dd8299507b6436a788e219a')}\n"
    },
    {
     "ename": "KeyboardInterrupt",
     "evalue": "",
     "output_type": "error",
     "traceback": [
      "\u001b[1;31m---------------------------------------------------------------------------\u001b[0m",
      "\u001b[1;31mWantReadError\u001b[0m                             Traceback (most recent call last)",
      "\u001b[1;32m~\\Anaconda3\\lib\\site-packages\\urllib3\\contrib\\pyopenssl.py\u001b[0m in \u001b[0;36mrecv_into\u001b[1;34m(self, *args, **kwargs)\u001b[0m\n\u001b[0;32m    279\u001b[0m         \u001b[1;32mtry\u001b[0m\u001b[1;33m:\u001b[0m\u001b[1;33m\u001b[0m\u001b[0m\n\u001b[1;32m--> 280\u001b[1;33m             \u001b[1;32mreturn\u001b[0m \u001b[0mself\u001b[0m\u001b[1;33m.\u001b[0m\u001b[0mconnection\u001b[0m\u001b[1;33m.\u001b[0m\u001b[0mrecv_into\u001b[0m\u001b[1;33m(\u001b[0m\u001b[1;33m*\u001b[0m\u001b[0margs\u001b[0m\u001b[1;33m,\u001b[0m \u001b[1;33m**\u001b[0m\u001b[0mkwargs\u001b[0m\u001b[1;33m)\u001b[0m\u001b[1;33m\u001b[0m\u001b[0m\n\u001b[0m\u001b[0;32m    281\u001b[0m         \u001b[1;32mexcept\u001b[0m \u001b[0mOpenSSL\u001b[0m\u001b[1;33m.\u001b[0m\u001b[0mSSL\u001b[0m\u001b[1;33m.\u001b[0m\u001b[0mSysCallError\u001b[0m \u001b[1;32mas\u001b[0m \u001b[0me\u001b[0m\u001b[1;33m:\u001b[0m\u001b[1;33m\u001b[0m\u001b[0m\n",
      "\u001b[1;32m~\\Anaconda3\\lib\\site-packages\\OpenSSL\\SSL.py\u001b[0m in \u001b[0;36mrecv_into\u001b[1;34m(self, buffer, nbytes, flags)\u001b[0m\n\u001b[0;32m   1813\u001b[0m             \u001b[0mresult\u001b[0m \u001b[1;33m=\u001b[0m \u001b[0m_lib\u001b[0m\u001b[1;33m.\u001b[0m\u001b[0mSSL_read\u001b[0m\u001b[1;33m(\u001b[0m\u001b[0mself\u001b[0m\u001b[1;33m.\u001b[0m\u001b[0m_ssl\u001b[0m\u001b[1;33m,\u001b[0m \u001b[0mbuf\u001b[0m\u001b[1;33m,\u001b[0m \u001b[0mnbytes\u001b[0m\u001b[1;33m)\u001b[0m\u001b[1;33m\u001b[0m\u001b[0m\n\u001b[1;32m-> 1814\u001b[1;33m         \u001b[0mself\u001b[0m\u001b[1;33m.\u001b[0m\u001b[0m_raise_ssl_error\u001b[0m\u001b[1;33m(\u001b[0m\u001b[0mself\u001b[0m\u001b[1;33m.\u001b[0m\u001b[0m_ssl\u001b[0m\u001b[1;33m,\u001b[0m \u001b[0mresult\u001b[0m\u001b[1;33m)\u001b[0m\u001b[1;33m\u001b[0m\u001b[0m\n\u001b[0m\u001b[0;32m   1815\u001b[0m \u001b[1;33m\u001b[0m\u001b[0m\n",
      "\u001b[1;32m~\\Anaconda3\\lib\\site-packages\\OpenSSL\\SSL.py\u001b[0m in \u001b[0;36m_raise_ssl_error\u001b[1;34m(self, ssl, result)\u001b[0m\n\u001b[0;32m   1613\u001b[0m         \u001b[1;32mif\u001b[0m \u001b[0merror\u001b[0m \u001b[1;33m==\u001b[0m \u001b[0m_lib\u001b[0m\u001b[1;33m.\u001b[0m\u001b[0mSSL_ERROR_WANT_READ\u001b[0m\u001b[1;33m:\u001b[0m\u001b[1;33m\u001b[0m\u001b[0m\n\u001b[1;32m-> 1614\u001b[1;33m             \u001b[1;32mraise\u001b[0m \u001b[0mWantReadError\u001b[0m\u001b[1;33m(\u001b[0m\u001b[1;33m)\u001b[0m\u001b[1;33m\u001b[0m\u001b[0m\n\u001b[0m\u001b[0;32m   1615\u001b[0m         \u001b[1;32melif\u001b[0m \u001b[0merror\u001b[0m \u001b[1;33m==\u001b[0m \u001b[0m_lib\u001b[0m\u001b[1;33m.\u001b[0m\u001b[0mSSL_ERROR_WANT_WRITE\u001b[0m\u001b[1;33m:\u001b[0m\u001b[1;33m\u001b[0m\u001b[0m\n",
      "\u001b[1;31mWantReadError\u001b[0m: ",
      "\nDuring handling of the above exception, another exception occurred:\n",
      "\u001b[1;31mKeyboardInterrupt\u001b[0m                         Traceback (most recent call last)",
      "\u001b[1;32m<ipython-input-17-6a9070444200>\u001b[0m in \u001b[0;36m<module>\u001b[1;34m()\u001b[0m\n\u001b[0;32m      1\u001b[0m \u001b[1;31m# Iniciando o filtro e gravando os tweets no MongoDB\u001b[0m\u001b[1;33m\u001b[0m\u001b[1;33m\u001b[0m\u001b[0m\n\u001b[1;32m----> 2\u001b[1;33m \u001b[0mmystream\u001b[0m\u001b[1;33m.\u001b[0m\u001b[0mfilter\u001b[0m\u001b[1;33m(\u001b[0m\u001b[0mtrack\u001b[0m\u001b[1;33m=\u001b[0m\u001b[0mkeywords\u001b[0m\u001b[1;33m)\u001b[0m\u001b[1;33m\u001b[0m\u001b[0m\n\u001b[0m",
      "\u001b[1;32m~\\Anaconda3\\lib\\site-packages\\tweepy\\streaming.py\u001b[0m in \u001b[0;36mfilter\u001b[1;34m(self, follow, track, is_async, locations, stall_warnings, languages, encoding, filter_level)\u001b[0m\n\u001b[0;32m    472\u001b[0m             \u001b[0mself\u001b[0m\u001b[1;33m.\u001b[0m\u001b[0mbody\u001b[0m\u001b[1;33m[\u001b[0m\u001b[1;34m'filter_level'\u001b[0m\u001b[1;33m]\u001b[0m \u001b[1;33m=\u001b[0m \u001b[0mfilter_level\u001b[0m\u001b[1;33m.\u001b[0m\u001b[0mencode\u001b[0m\u001b[1;33m(\u001b[0m\u001b[0mencoding\u001b[0m\u001b[1;33m)\u001b[0m\u001b[1;33m\u001b[0m\u001b[0m\n\u001b[0;32m    473\u001b[0m         \u001b[0mself\u001b[0m\u001b[1;33m.\u001b[0m\u001b[0msession\u001b[0m\u001b[1;33m.\u001b[0m\u001b[0mparams\u001b[0m \u001b[1;33m=\u001b[0m \u001b[1;33m{\u001b[0m\u001b[1;34m'delimited'\u001b[0m\u001b[1;33m:\u001b[0m \u001b[1;34m'length'\u001b[0m\u001b[1;33m}\u001b[0m\u001b[1;33m\u001b[0m\u001b[0m\n\u001b[1;32m--> 474\u001b[1;33m         \u001b[0mself\u001b[0m\u001b[1;33m.\u001b[0m\u001b[0m_start\u001b[0m\u001b[1;33m(\u001b[0m\u001b[0mis_async\u001b[0m\u001b[1;33m)\u001b[0m\u001b[1;33m\u001b[0m\u001b[0m\n\u001b[0m\u001b[0;32m    475\u001b[0m \u001b[1;33m\u001b[0m\u001b[0m\n\u001b[0;32m    476\u001b[0m     def sitestream(self, follow, stall_warnings=False,\n",
      "\u001b[1;32m~\\Anaconda3\\lib\\site-packages\\tweepy\\streaming.py\u001b[0m in \u001b[0;36m_start\u001b[1;34m(self, is_async)\u001b[0m\n\u001b[0;32m    387\u001b[0m             \u001b[0mself\u001b[0m\u001b[1;33m.\u001b[0m\u001b[0m_thread\u001b[0m\u001b[1;33m.\u001b[0m\u001b[0mstart\u001b[0m\u001b[1;33m(\u001b[0m\u001b[1;33m)\u001b[0m\u001b[1;33m\u001b[0m\u001b[0m\n\u001b[0;32m    388\u001b[0m         \u001b[1;32melse\u001b[0m\u001b[1;33m:\u001b[0m\u001b[1;33m\u001b[0m\u001b[0m\n\u001b[1;32m--> 389\u001b[1;33m             \u001b[0mself\u001b[0m\u001b[1;33m.\u001b[0m\u001b[0m_run\u001b[0m\u001b[1;33m(\u001b[0m\u001b[1;33m)\u001b[0m\u001b[1;33m\u001b[0m\u001b[0m\n\u001b[0m\u001b[0;32m    390\u001b[0m \u001b[1;33m\u001b[0m\u001b[0m\n\u001b[0;32m    391\u001b[0m     \u001b[1;32mdef\u001b[0m \u001b[0mon_closed\u001b[0m\u001b[1;33m(\u001b[0m\u001b[0mself\u001b[0m\u001b[1;33m,\u001b[0m \u001b[0mresp\u001b[0m\u001b[1;33m)\u001b[0m\u001b[1;33m:\u001b[0m\u001b[1;33m\u001b[0m\u001b[0m\n",
      "\u001b[1;32m~\\Anaconda3\\lib\\site-packages\\tweepy\\streaming.py\u001b[0m in \u001b[0;36m_run\u001b[1;34m(self)\u001b[0m\n\u001b[0;32m    287\u001b[0m                     \u001b[0mself\u001b[0m\u001b[1;33m.\u001b[0m\u001b[0msnooze_time\u001b[0m \u001b[1;33m=\u001b[0m \u001b[0mself\u001b[0m\u001b[1;33m.\u001b[0m\u001b[0msnooze_time_step\u001b[0m\u001b[1;33m\u001b[0m\u001b[0m\n\u001b[0;32m    288\u001b[0m                     \u001b[0mself\u001b[0m\u001b[1;33m.\u001b[0m\u001b[0mlistener\u001b[0m\u001b[1;33m.\u001b[0m\u001b[0mon_connect\u001b[0m\u001b[1;33m(\u001b[0m\u001b[1;33m)\u001b[0m\u001b[1;33m\u001b[0m\u001b[0m\n\u001b[1;32m--> 289\u001b[1;33m                     \u001b[0mself\u001b[0m\u001b[1;33m.\u001b[0m\u001b[0m_read_loop\u001b[0m\u001b[1;33m(\u001b[0m\u001b[0mresp\u001b[0m\u001b[1;33m)\u001b[0m\u001b[1;33m\u001b[0m\u001b[0m\n\u001b[0m\u001b[0;32m    290\u001b[0m             \u001b[1;32mexcept\u001b[0m \u001b[1;33m(\u001b[0m\u001b[0mTimeout\u001b[0m\u001b[1;33m,\u001b[0m \u001b[0mssl\u001b[0m\u001b[1;33m.\u001b[0m\u001b[0mSSLError\u001b[0m\u001b[1;33m)\u001b[0m \u001b[1;32mas\u001b[0m \u001b[0mexc\u001b[0m\u001b[1;33m:\u001b[0m\u001b[1;33m\u001b[0m\u001b[0m\n\u001b[0;32m    291\u001b[0m                 \u001b[1;31m# This is still necessary, as a SSLError can actually be\u001b[0m\u001b[1;33m\u001b[0m\u001b[1;33m\u001b[0m\u001b[0m\n",
      "\u001b[1;32m~\\Anaconda3\\lib\\site-packages\\tweepy\\streaming.py\u001b[0m in \u001b[0;36m_read_loop\u001b[1;34m(self, resp)\u001b[0m\n\u001b[0;32m    337\u001b[0m             \u001b[0mlength\u001b[0m \u001b[1;33m=\u001b[0m \u001b[1;36m0\u001b[0m\u001b[1;33m\u001b[0m\u001b[0m\n\u001b[0;32m    338\u001b[0m             \u001b[1;32mwhile\u001b[0m \u001b[1;32mnot\u001b[0m \u001b[0mresp\u001b[0m\u001b[1;33m.\u001b[0m\u001b[0mraw\u001b[0m\u001b[1;33m.\u001b[0m\u001b[0mclosed\u001b[0m\u001b[1;33m:\u001b[0m\u001b[1;33m\u001b[0m\u001b[0m\n\u001b[1;32m--> 339\u001b[1;33m                 \u001b[0mline\u001b[0m \u001b[1;33m=\u001b[0m \u001b[0mbuf\u001b[0m\u001b[1;33m.\u001b[0m\u001b[0mread_line\u001b[0m\u001b[1;33m(\u001b[0m\u001b[1;33m)\u001b[0m\u001b[1;33m\u001b[0m\u001b[0m\n\u001b[0m\u001b[0;32m    340\u001b[0m                 \u001b[0mstripped_line\u001b[0m \u001b[1;33m=\u001b[0m \u001b[0mline\u001b[0m\u001b[1;33m.\u001b[0m\u001b[0mstrip\u001b[0m\u001b[1;33m(\u001b[0m\u001b[1;33m)\u001b[0m \u001b[1;32mif\u001b[0m \u001b[0mline\u001b[0m \u001b[1;32melse\u001b[0m \u001b[0mline\u001b[0m \u001b[1;31m# line is sometimes None so we need to check here\u001b[0m\u001b[1;33m\u001b[0m\u001b[0m\n\u001b[0;32m    341\u001b[0m                 \u001b[1;32mif\u001b[0m \u001b[1;32mnot\u001b[0m \u001b[0mstripped_line\u001b[0m\u001b[1;33m:\u001b[0m\u001b[1;33m\u001b[0m\u001b[0m\n",
      "\u001b[1;32m~\\Anaconda3\\lib\\site-packages\\tweepy\\streaming.py\u001b[0m in \u001b[0;36mread_line\u001b[1;34m(self, sep)\u001b[0m\n\u001b[0;32m    198\u001b[0m             \u001b[1;32melse\u001b[0m\u001b[1;33m:\u001b[0m\u001b[1;33m\u001b[0m\u001b[0m\n\u001b[0;32m    199\u001b[0m                 \u001b[0mstart\u001b[0m \u001b[1;33m=\u001b[0m \u001b[0mlen\u001b[0m\u001b[1;33m(\u001b[0m\u001b[0mself\u001b[0m\u001b[1;33m.\u001b[0m\u001b[0m_buffer\u001b[0m\u001b[1;33m)\u001b[0m\u001b[1;33m\u001b[0m\u001b[0m\n\u001b[1;32m--> 200\u001b[1;33m             \u001b[0mself\u001b[0m\u001b[1;33m.\u001b[0m\u001b[0m_buffer\u001b[0m \u001b[1;33m+=\u001b[0m \u001b[0mself\u001b[0m\u001b[1;33m.\u001b[0m\u001b[0m_stream\u001b[0m\u001b[1;33m.\u001b[0m\u001b[0mread\u001b[0m\u001b[1;33m(\u001b[0m\u001b[0mself\u001b[0m\u001b[1;33m.\u001b[0m\u001b[0m_chunk_size\u001b[0m\u001b[1;33m)\u001b[0m\u001b[1;33m\u001b[0m\u001b[0m\n\u001b[0m\u001b[0;32m    201\u001b[0m         \u001b[1;32mreturn\u001b[0m \u001b[0msix\u001b[0m\u001b[1;33m.\u001b[0m\u001b[0mb\u001b[0m\u001b[1;33m(\u001b[0m\u001b[1;34m''\u001b[0m\u001b[1;33m)\u001b[0m\u001b[1;33m\u001b[0m\u001b[0m\n\u001b[0;32m    202\u001b[0m \u001b[1;33m\u001b[0m\u001b[0m\n",
      "\u001b[1;32m~\\Anaconda3\\lib\\site-packages\\urllib3\\response.py\u001b[0m in \u001b[0;36mread\u001b[1;34m(self, amt, decode_content, cache_content)\u001b[0m\n\u001b[0;32m    382\u001b[0m             \u001b[1;32melse\u001b[0m\u001b[1;33m:\u001b[0m\u001b[1;33m\u001b[0m\u001b[0m\n\u001b[0;32m    383\u001b[0m                 \u001b[0mcache_content\u001b[0m \u001b[1;33m=\u001b[0m \u001b[1;32mFalse\u001b[0m\u001b[1;33m\u001b[0m\u001b[0m\n\u001b[1;32m--> 384\u001b[1;33m                 \u001b[0mdata\u001b[0m \u001b[1;33m=\u001b[0m \u001b[0mself\u001b[0m\u001b[1;33m.\u001b[0m\u001b[0m_fp\u001b[0m\u001b[1;33m.\u001b[0m\u001b[0mread\u001b[0m\u001b[1;33m(\u001b[0m\u001b[0mamt\u001b[0m\u001b[1;33m)\u001b[0m\u001b[1;33m\u001b[0m\u001b[0m\n\u001b[0m\u001b[0;32m    385\u001b[0m                 \u001b[1;32mif\u001b[0m \u001b[0mamt\u001b[0m \u001b[1;33m!=\u001b[0m \u001b[1;36m0\u001b[0m \u001b[1;32mand\u001b[0m \u001b[1;32mnot\u001b[0m \u001b[0mdata\u001b[0m\u001b[1;33m:\u001b[0m  \u001b[1;31m# Platform-specific: Buggy versions of Python.\u001b[0m\u001b[1;33m\u001b[0m\u001b[0m\n\u001b[0;32m    386\u001b[0m                     \u001b[1;31m# Close the connection when no data is returned\u001b[0m\u001b[1;33m\u001b[0m\u001b[1;33m\u001b[0m\u001b[0m\n",
      "\u001b[1;32m~\\Anaconda3\\lib\\http\\client.py\u001b[0m in \u001b[0;36mread\u001b[1;34m(self, amt)\u001b[0m\n\u001b[0;32m    447\u001b[0m             \u001b[1;31m# Amount is given, implement using readinto\u001b[0m\u001b[1;33m\u001b[0m\u001b[1;33m\u001b[0m\u001b[0m\n\u001b[0;32m    448\u001b[0m             \u001b[0mb\u001b[0m \u001b[1;33m=\u001b[0m \u001b[0mbytearray\u001b[0m\u001b[1;33m(\u001b[0m\u001b[0mamt\u001b[0m\u001b[1;33m)\u001b[0m\u001b[1;33m\u001b[0m\u001b[0m\n\u001b[1;32m--> 449\u001b[1;33m             \u001b[0mn\u001b[0m \u001b[1;33m=\u001b[0m \u001b[0mself\u001b[0m\u001b[1;33m.\u001b[0m\u001b[0mreadinto\u001b[0m\u001b[1;33m(\u001b[0m\u001b[0mb\u001b[0m\u001b[1;33m)\u001b[0m\u001b[1;33m\u001b[0m\u001b[0m\n\u001b[0m\u001b[0;32m    450\u001b[0m             \u001b[1;32mreturn\u001b[0m \u001b[0mmemoryview\u001b[0m\u001b[1;33m(\u001b[0m\u001b[0mb\u001b[0m\u001b[1;33m)\u001b[0m\u001b[1;33m[\u001b[0m\u001b[1;33m:\u001b[0m\u001b[0mn\u001b[0m\u001b[1;33m]\u001b[0m\u001b[1;33m.\u001b[0m\u001b[0mtobytes\u001b[0m\u001b[1;33m(\u001b[0m\u001b[1;33m)\u001b[0m\u001b[1;33m\u001b[0m\u001b[0m\n\u001b[0;32m    451\u001b[0m         \u001b[1;32melse\u001b[0m\u001b[1;33m:\u001b[0m\u001b[1;33m\u001b[0m\u001b[0m\n",
      "\u001b[1;32m~\\Anaconda3\\lib\\http\\client.py\u001b[0m in \u001b[0;36mreadinto\u001b[1;34m(self, b)\u001b[0m\n\u001b[0;32m    481\u001b[0m \u001b[1;33m\u001b[0m\u001b[0m\n\u001b[0;32m    482\u001b[0m         \u001b[1;32mif\u001b[0m \u001b[0mself\u001b[0m\u001b[1;33m.\u001b[0m\u001b[0mchunked\u001b[0m\u001b[1;33m:\u001b[0m\u001b[1;33m\u001b[0m\u001b[0m\n\u001b[1;32m--> 483\u001b[1;33m             \u001b[1;32mreturn\u001b[0m \u001b[0mself\u001b[0m\u001b[1;33m.\u001b[0m\u001b[0m_readinto_chunked\u001b[0m\u001b[1;33m(\u001b[0m\u001b[0mb\u001b[0m\u001b[1;33m)\u001b[0m\u001b[1;33m\u001b[0m\u001b[0m\n\u001b[0m\u001b[0;32m    484\u001b[0m \u001b[1;33m\u001b[0m\u001b[0m\n\u001b[0;32m    485\u001b[0m         \u001b[1;32mif\u001b[0m \u001b[0mself\u001b[0m\u001b[1;33m.\u001b[0m\u001b[0mlength\u001b[0m \u001b[1;32mis\u001b[0m \u001b[1;32mnot\u001b[0m \u001b[1;32mNone\u001b[0m\u001b[1;33m:\u001b[0m\u001b[1;33m\u001b[0m\u001b[0m\n",
      "\u001b[1;32m~\\Anaconda3\\lib\\http\\client.py\u001b[0m in \u001b[0;36m_readinto_chunked\u001b[1;34m(self, b)\u001b[0m\n\u001b[0;32m    576\u001b[0m         \u001b[1;32mtry\u001b[0m\u001b[1;33m:\u001b[0m\u001b[1;33m\u001b[0m\u001b[0m\n\u001b[0;32m    577\u001b[0m             \u001b[1;32mwhile\u001b[0m \u001b[1;32mTrue\u001b[0m\u001b[1;33m:\u001b[0m\u001b[1;33m\u001b[0m\u001b[0m\n\u001b[1;32m--> 578\u001b[1;33m                 \u001b[0mchunk_left\u001b[0m \u001b[1;33m=\u001b[0m \u001b[0mself\u001b[0m\u001b[1;33m.\u001b[0m\u001b[0m_get_chunk_left\u001b[0m\u001b[1;33m(\u001b[0m\u001b[1;33m)\u001b[0m\u001b[1;33m\u001b[0m\u001b[0m\n\u001b[0m\u001b[0;32m    579\u001b[0m                 \u001b[1;32mif\u001b[0m \u001b[0mchunk_left\u001b[0m \u001b[1;32mis\u001b[0m \u001b[1;32mNone\u001b[0m\u001b[1;33m:\u001b[0m\u001b[1;33m\u001b[0m\u001b[0m\n\u001b[0;32m    580\u001b[0m                     \u001b[1;32mreturn\u001b[0m \u001b[0mtotal_bytes\u001b[0m\u001b[1;33m\u001b[0m\u001b[0m\n",
      "\u001b[1;32m~\\Anaconda3\\lib\\http\\client.py\u001b[0m in \u001b[0;36m_get_chunk_left\u001b[1;34m(self)\u001b[0m\n\u001b[0;32m    544\u001b[0m                 \u001b[0mself\u001b[0m\u001b[1;33m.\u001b[0m\u001b[0m_safe_read\u001b[0m\u001b[1;33m(\u001b[0m\u001b[1;36m2\u001b[0m\u001b[1;33m)\u001b[0m  \u001b[1;31m# toss the CRLF at the end of the chunk\u001b[0m\u001b[1;33m\u001b[0m\u001b[0m\n\u001b[0;32m    545\u001b[0m             \u001b[1;32mtry\u001b[0m\u001b[1;33m:\u001b[0m\u001b[1;33m\u001b[0m\u001b[0m\n\u001b[1;32m--> 546\u001b[1;33m                 \u001b[0mchunk_left\u001b[0m \u001b[1;33m=\u001b[0m \u001b[0mself\u001b[0m\u001b[1;33m.\u001b[0m\u001b[0m_read_next_chunk_size\u001b[0m\u001b[1;33m(\u001b[0m\u001b[1;33m)\u001b[0m\u001b[1;33m\u001b[0m\u001b[0m\n\u001b[0m\u001b[0;32m    547\u001b[0m             \u001b[1;32mexcept\u001b[0m \u001b[0mValueError\u001b[0m\u001b[1;33m:\u001b[0m\u001b[1;33m\u001b[0m\u001b[0m\n\u001b[0;32m    548\u001b[0m                 \u001b[1;32mraise\u001b[0m \u001b[0mIncompleteRead\u001b[0m\u001b[1;33m(\u001b[0m\u001b[1;34mb''\u001b[0m\u001b[1;33m)\u001b[0m\u001b[1;33m\u001b[0m\u001b[0m\n",
      "\u001b[1;32m~\\Anaconda3\\lib\\http\\client.py\u001b[0m in \u001b[0;36m_read_next_chunk_size\u001b[1;34m(self)\u001b[0m\n\u001b[0;32m    504\u001b[0m     \u001b[1;32mdef\u001b[0m \u001b[0m_read_next_chunk_size\u001b[0m\u001b[1;33m(\u001b[0m\u001b[0mself\u001b[0m\u001b[1;33m)\u001b[0m\u001b[1;33m:\u001b[0m\u001b[1;33m\u001b[0m\u001b[0m\n\u001b[0;32m    505\u001b[0m         \u001b[1;31m# Read the next chunk size from the file\u001b[0m\u001b[1;33m\u001b[0m\u001b[1;33m\u001b[0m\u001b[0m\n\u001b[1;32m--> 506\u001b[1;33m         \u001b[0mline\u001b[0m \u001b[1;33m=\u001b[0m \u001b[0mself\u001b[0m\u001b[1;33m.\u001b[0m\u001b[0mfp\u001b[0m\u001b[1;33m.\u001b[0m\u001b[0mreadline\u001b[0m\u001b[1;33m(\u001b[0m\u001b[0m_MAXLINE\u001b[0m \u001b[1;33m+\u001b[0m \u001b[1;36m1\u001b[0m\u001b[1;33m)\u001b[0m\u001b[1;33m\u001b[0m\u001b[0m\n\u001b[0m\u001b[0;32m    507\u001b[0m         \u001b[1;32mif\u001b[0m \u001b[0mlen\u001b[0m\u001b[1;33m(\u001b[0m\u001b[0mline\u001b[0m\u001b[1;33m)\u001b[0m \u001b[1;33m>\u001b[0m \u001b[0m_MAXLINE\u001b[0m\u001b[1;33m:\u001b[0m\u001b[1;33m\u001b[0m\u001b[0m\n\u001b[0;32m    508\u001b[0m             \u001b[1;32mraise\u001b[0m \u001b[0mLineTooLong\u001b[0m\u001b[1;33m(\u001b[0m\u001b[1;34m\"chunk size\"\u001b[0m\u001b[1;33m)\u001b[0m\u001b[1;33m\u001b[0m\u001b[0m\n",
      "\u001b[1;32m~\\Anaconda3\\lib\\socket.py\u001b[0m in \u001b[0;36mreadinto\u001b[1;34m(self, b)\u001b[0m\n\u001b[0;32m    584\u001b[0m         \u001b[1;32mwhile\u001b[0m \u001b[1;32mTrue\u001b[0m\u001b[1;33m:\u001b[0m\u001b[1;33m\u001b[0m\u001b[0m\n\u001b[0;32m    585\u001b[0m             \u001b[1;32mtry\u001b[0m\u001b[1;33m:\u001b[0m\u001b[1;33m\u001b[0m\u001b[0m\n\u001b[1;32m--> 586\u001b[1;33m                 \u001b[1;32mreturn\u001b[0m \u001b[0mself\u001b[0m\u001b[1;33m.\u001b[0m\u001b[0m_sock\u001b[0m\u001b[1;33m.\u001b[0m\u001b[0mrecv_into\u001b[0m\u001b[1;33m(\u001b[0m\u001b[0mb\u001b[0m\u001b[1;33m)\u001b[0m\u001b[1;33m\u001b[0m\u001b[0m\n\u001b[0m\u001b[0;32m    587\u001b[0m             \u001b[1;32mexcept\u001b[0m \u001b[0mtimeout\u001b[0m\u001b[1;33m:\u001b[0m\u001b[1;33m\u001b[0m\u001b[0m\n\u001b[0;32m    588\u001b[0m                 \u001b[0mself\u001b[0m\u001b[1;33m.\u001b[0m\u001b[0m_timeout_occurred\u001b[0m \u001b[1;33m=\u001b[0m \u001b[1;32mTrue\u001b[0m\u001b[1;33m\u001b[0m\u001b[0m\n",
      "\u001b[1;32m~\\Anaconda3\\lib\\site-packages\\urllib3\\contrib\\pyopenssl.py\u001b[0m in \u001b[0;36mrecv_into\u001b[1;34m(self, *args, **kwargs)\u001b[0m\n\u001b[0;32m    290\u001b[0m                 \u001b[1;32mraise\u001b[0m\u001b[1;33m\u001b[0m\u001b[0m\n\u001b[0;32m    291\u001b[0m         \u001b[1;32mexcept\u001b[0m \u001b[0mOpenSSL\u001b[0m\u001b[1;33m.\u001b[0m\u001b[0mSSL\u001b[0m\u001b[1;33m.\u001b[0m\u001b[0mWantReadError\u001b[0m\u001b[1;33m:\u001b[0m\u001b[1;33m\u001b[0m\u001b[0m\n\u001b[1;32m--> 292\u001b[1;33m             \u001b[0mrd\u001b[0m \u001b[1;33m=\u001b[0m \u001b[0mutil\u001b[0m\u001b[1;33m.\u001b[0m\u001b[0mwait_for_read\u001b[0m\u001b[1;33m(\u001b[0m\u001b[0mself\u001b[0m\u001b[1;33m.\u001b[0m\u001b[0msocket\u001b[0m\u001b[1;33m,\u001b[0m \u001b[0mself\u001b[0m\u001b[1;33m.\u001b[0m\u001b[0msocket\u001b[0m\u001b[1;33m.\u001b[0m\u001b[0mgettimeout\u001b[0m\u001b[1;33m(\u001b[0m\u001b[1;33m)\u001b[0m\u001b[1;33m)\u001b[0m\u001b[1;33m\u001b[0m\u001b[0m\n\u001b[0m\u001b[0;32m    293\u001b[0m             \u001b[1;32mif\u001b[0m \u001b[1;32mnot\u001b[0m \u001b[0mrd\u001b[0m\u001b[1;33m:\u001b[0m\u001b[1;33m\u001b[0m\u001b[0m\n\u001b[0;32m    294\u001b[0m                 \u001b[1;32mraise\u001b[0m \u001b[0mtimeout\u001b[0m\u001b[1;33m(\u001b[0m\u001b[1;34m'The read operation timed out'\u001b[0m\u001b[1;33m)\u001b[0m\u001b[1;33m\u001b[0m\u001b[0m\n",
      "\u001b[1;32m~\\Anaconda3\\lib\\site-packages\\urllib3\\util\\wait.py\u001b[0m in \u001b[0;36mwait_for_read\u001b[1;34m(socks, timeout)\u001b[0m\n\u001b[0;32m     31\u001b[0m     \u001b[1;32mor\u001b[0m \u001b[0moptionally\u001b[0m \u001b[0ma\u001b[0m \u001b[0msingle\u001b[0m \u001b[0msocket\u001b[0m \u001b[1;32mif\u001b[0m \u001b[0mpassed\u001b[0m \u001b[1;32min\u001b[0m\u001b[1;33m.\u001b[0m \u001b[0mReturns\u001b[0m \u001b[0ma\u001b[0m \u001b[0mlist\u001b[0m \u001b[0mof\u001b[0m\u001b[1;33m\u001b[0m\u001b[0m\n\u001b[0;32m     32\u001b[0m     sockets that can be read from immediately. \"\"\"\n\u001b[1;32m---> 33\u001b[1;33m     \u001b[1;32mreturn\u001b[0m \u001b[0m_wait_for_io_events\u001b[0m\u001b[1;33m(\u001b[0m\u001b[0msocks\u001b[0m\u001b[1;33m,\u001b[0m \u001b[0mEVENT_READ\u001b[0m\u001b[1;33m,\u001b[0m \u001b[0mtimeout\u001b[0m\u001b[1;33m)\u001b[0m\u001b[1;33m\u001b[0m\u001b[0m\n\u001b[0m\u001b[0;32m     34\u001b[0m \u001b[1;33m\u001b[0m\u001b[0m\n\u001b[0;32m     35\u001b[0m \u001b[1;33m\u001b[0m\u001b[0m\n",
      "\u001b[1;32m~\\Anaconda3\\lib\\site-packages\\urllib3\\util\\wait.py\u001b[0m in \u001b[0;36m_wait_for_io_events\u001b[1;34m(socks, events, timeout)\u001b[0m\n\u001b[0;32m     24\u001b[0m             \u001b[0mselector\u001b[0m\u001b[1;33m.\u001b[0m\u001b[0mregister\u001b[0m\u001b[1;33m(\u001b[0m\u001b[0msock\u001b[0m\u001b[1;33m,\u001b[0m \u001b[0mevents\u001b[0m\u001b[1;33m)\u001b[0m\u001b[1;33m\u001b[0m\u001b[0m\n\u001b[0;32m     25\u001b[0m         return [key[0].fileobj for key in\n\u001b[1;32m---> 26\u001b[1;33m                 selector.select(timeout) if key[1] & events]\n\u001b[0m\u001b[0;32m     27\u001b[0m \u001b[1;33m\u001b[0m\u001b[0m\n\u001b[0;32m     28\u001b[0m \u001b[1;33m\u001b[0m\u001b[0m\n",
      "\u001b[1;32m~\\Anaconda3\\lib\\site-packages\\urllib3\\util\\selectors.py\u001b[0m in \u001b[0;36mselect\u001b[1;34m(self, timeout)\u001b[0m\n\u001b[0;32m    318\u001b[0m             \u001b[0mready\u001b[0m \u001b[1;33m=\u001b[0m \u001b[1;33m[\u001b[0m\u001b[1;33m]\u001b[0m\u001b[1;33m\u001b[0m\u001b[0m\n\u001b[0;32m    319\u001b[0m             r, w, _ = _syscall_wrapper(self._select, True, self._readers,\n\u001b[1;32m--> 320\u001b[1;33m                                        self._writers, timeout)\n\u001b[0m\u001b[0;32m    321\u001b[0m             \u001b[0mr\u001b[0m \u001b[1;33m=\u001b[0m \u001b[0mset\u001b[0m\u001b[1;33m(\u001b[0m\u001b[0mr\u001b[0m\u001b[1;33m)\u001b[0m\u001b[1;33m\u001b[0m\u001b[0m\n\u001b[0;32m    322\u001b[0m             \u001b[0mw\u001b[0m \u001b[1;33m=\u001b[0m \u001b[0mset\u001b[0m\u001b[1;33m(\u001b[0m\u001b[0mw\u001b[0m\u001b[1;33m)\u001b[0m\u001b[1;33m\u001b[0m\u001b[0m\n",
      "\u001b[1;32m~\\Anaconda3\\lib\\site-packages\\urllib3\\util\\selectors.py\u001b[0m in \u001b[0;36m_syscall_wrapper\u001b[1;34m(func, _, *args, **kwargs)\u001b[0m\n\u001b[0;32m     62\u001b[0m         and recalculate their timeouts. \"\"\"\n\u001b[0;32m     63\u001b[0m         \u001b[1;32mtry\u001b[0m\u001b[1;33m:\u001b[0m\u001b[1;33m\u001b[0m\u001b[0m\n\u001b[1;32m---> 64\u001b[1;33m             \u001b[1;32mreturn\u001b[0m \u001b[0mfunc\u001b[0m\u001b[1;33m(\u001b[0m\u001b[1;33m*\u001b[0m\u001b[0margs\u001b[0m\u001b[1;33m,\u001b[0m \u001b[1;33m**\u001b[0m\u001b[0mkwargs\u001b[0m\u001b[1;33m)\u001b[0m\u001b[1;33m\u001b[0m\u001b[0m\n\u001b[0m\u001b[0;32m     65\u001b[0m         \u001b[1;32mexcept\u001b[0m \u001b[1;33m(\u001b[0m\u001b[0mOSError\u001b[0m\u001b[1;33m,\u001b[0m \u001b[0mIOError\u001b[0m\u001b[1;33m,\u001b[0m \u001b[0mselect\u001b[0m\u001b[1;33m.\u001b[0m\u001b[0merror\u001b[0m\u001b[1;33m)\u001b[0m \u001b[1;32mas\u001b[0m \u001b[0me\u001b[0m\u001b[1;33m:\u001b[0m\u001b[1;33m\u001b[0m\u001b[0m\n\u001b[0;32m     66\u001b[0m             \u001b[0merrcode\u001b[0m \u001b[1;33m=\u001b[0m \u001b[1;32mNone\u001b[0m\u001b[1;33m\u001b[0m\u001b[0m\n",
      "\u001b[1;32m~\\Anaconda3\\lib\\site-packages\\urllib3\\util\\selectors.py\u001b[0m in \u001b[0;36m_select\u001b[1;34m(self, r, w, timeout)\u001b[0m\n\u001b[0;32m    308\u001b[0m         \u001b[1;32mdef\u001b[0m \u001b[0m_select\u001b[0m\u001b[1;33m(\u001b[0m\u001b[0mself\u001b[0m\u001b[1;33m,\u001b[0m \u001b[0mr\u001b[0m\u001b[1;33m,\u001b[0m \u001b[0mw\u001b[0m\u001b[1;33m,\u001b[0m \u001b[0mtimeout\u001b[0m\u001b[1;33m=\u001b[0m\u001b[1;32mNone\u001b[0m\u001b[1;33m)\u001b[0m\u001b[1;33m:\u001b[0m\u001b[1;33m\u001b[0m\u001b[0m\n\u001b[0;32m    309\u001b[0m             \u001b[1;34m\"\"\" Wrapper for select.select because timeout is a positional arg \"\"\"\u001b[0m\u001b[1;33m\u001b[0m\u001b[0m\n\u001b[1;32m--> 310\u001b[1;33m             \u001b[1;32mreturn\u001b[0m \u001b[0mselect\u001b[0m\u001b[1;33m.\u001b[0m\u001b[0mselect\u001b[0m\u001b[1;33m(\u001b[0m\u001b[0mr\u001b[0m\u001b[1;33m,\u001b[0m \u001b[0mw\u001b[0m\u001b[1;33m,\u001b[0m \u001b[1;33m[\u001b[0m\u001b[1;33m]\u001b[0m\u001b[1;33m,\u001b[0m \u001b[0mtimeout\u001b[0m\u001b[1;33m)\u001b[0m\u001b[1;33m\u001b[0m\u001b[0m\n\u001b[0m\u001b[0;32m    311\u001b[0m \u001b[1;33m\u001b[0m\u001b[0m\n\u001b[0;32m    312\u001b[0m         \u001b[1;32mdef\u001b[0m \u001b[0mselect\u001b[0m\u001b[1;33m(\u001b[0m\u001b[0mself\u001b[0m\u001b[1;33m,\u001b[0m \u001b[0mtimeout\u001b[0m\u001b[1;33m=\u001b[0m\u001b[1;32mNone\u001b[0m\u001b[1;33m)\u001b[0m\u001b[1;33m:\u001b[0m\u001b[1;33m\u001b[0m\u001b[0m\n",
      "\u001b[1;31mKeyboardInterrupt\u001b[0m: "
     ]
    }
   ],
   "source": [
    "# Iniciando o filtro e gravando os tweets no MongoDB\n",
    "mystream.filter(track=keywords)"
   ]
  },
  {
   "cell_type": "markdown",
   "execution_count": null,
   "metadata": {},
   "outputs": [],
   "source": [
    "Consultando os Dados no MongoDB"
   ]
  },
  {
   "cell_type": "code",
   "execution_count": 18,
   "metadata": {},
   "outputs": [
    {
     "data": {
      "text/plain": "{'_id': ObjectId('5dd8291e07b6436a788e2161'),\n 'created_at': 'Fri Nov 22 18:30:01 +0000 2019',\n 'id_str': '1197945344883077122',\n 'text': 'Carlos Morrás: \"Gracias al Big data se está avanzando mucho en la detección de enfermedades\". Descubre el lado más… https://t.co/CjIG0U1UkE'}"
     },
     "execution_count": 18,
     "metadata": {},
     "output_type": "execute_result"
    }
   ],
   "source": [
    "# Verificando um documento no collection\n",
    "col.find_one()"
   ]
  },
  {
   "cell_type": "markdown",
   "execution_count": null,
   "metadata": {},
   "outputs": [],
   "source": [
    "Análise de Dados com Pandas e Scikit-Learn"
   ]
  },
  {
   "cell_type": "code",
   "execution_count": 20,
   "metadata": {},
   "outputs": [],
   "source": [
    "# Criando um dataset com dados retornados do MongoDB\n",
    "dataset = [{'created_at': item['created_at'], 'text': item['text']} for item in col.find()]"
   ]
  },
  {
   "cell_type": "code",
   "execution_count": 21,
   "metadata": {},
   "outputs": [],
   "source": [
    "# Importando o módulo Pandas para trabalhar com datasets em Python\n",
    "import pandas as pd"
   ]
  },
  {
   "cell_type": "code",
   "execution_count": 22,
   "metadata": {},
   "outputs": [],
   "source": [
    "# Criando um dataframe a partir do dataset\n",
    "df = pd.DataFrame(dataset)"
   ]
  },
  {
   "cell_type": "code",
   "execution_count": 23,
   "metadata": {},
   "outputs": [
    {
     "data": {
      "text/html": "<div>\n<style scoped>\n    .dataframe tbody tr th:only-of-type {\n        vertical-align: middle;\n    }\n\n    .dataframe tbody tr th {\n        vertical-align: top;\n    }\n\n    .dataframe thead th {\n        text-align: right;\n    }\n</style>\n<table border=\"1\" class=\"dataframe\">\n  <thead>\n    <tr style=\"text-align: right;\">\n      <th></th>\n      <th>created_at</th>\n      <th>text</th>\n    </tr>\n  </thead>\n  <tbody>\n    <tr>\n      <th>0</th>\n      <td>Fri Nov 22 18:30:01 +0000 2019</td>\n      <td>Carlos Morrás: \"Gracias al Big data se está av...</td>\n    </tr>\n    <tr>\n      <th>1</th>\n      <td>Fri Nov 22 18:30:01 +0000 2019</td>\n      <td>Only 1 month 9 days 5 hours 29 minutes left un...</td>\n    </tr>\n    <tr>\n      <th>2</th>\n      <td>Fri Nov 22 18:30:03 +0000 2019</td>\n      <td>RT @ThisIsAbtin: With Gopher snakes who wants ...</td>\n    </tr>\n    <tr>\n      <th>3</th>\n      <td>Fri Nov 22 18:30:03 +0000 2019</td>\n      <td>RT @ProgrammerBooks: CCDA 200-310 Official Cer...</td>\n    </tr>\n    <tr>\n      <th>4</th>\n      <td>Fri Nov 22 18:30:04 +0000 2019</td>\n      <td>☀ Hiring: #QA Tester with strong SQL and Big D...</td>\n    </tr>\n    <tr>\n      <th>5</th>\n      <td>Fri Nov 22 18:30:05 +0000 2019</td>\n      <td>RT @ThisIsAbtin: With Gopher snakes who wants ...</td>\n    </tr>\n    <tr>\n      <th>6</th>\n      <td>Fri Nov 22 18:30:05 +0000 2019</td>\n      <td>RT @ProgrammerBooks: CCDA 200-310 Official Cer...</td>\n    </tr>\n    <tr>\n      <th>7</th>\n      <td>Fri Nov 22 18:30:06 +0000 2019</td>\n      <td>2020 is just around the corner! And Data Scien...</td>\n    </tr>\n    <tr>\n      <th>8</th>\n      <td>Fri Nov 22 18:30:08 +0000 2019</td>\n      <td>RT @ProgrammerBooks: CCDA 200-310 Official Cer...</td>\n    </tr>\n    <tr>\n      <th>9</th>\n      <td>Fri Nov 22 18:30:09 +0000 2019</td>\n      <td>Big data set to define the role of an asset ma...</td>\n    </tr>\n    <tr>\n      <th>10</th>\n      <td>Fri Nov 22 18:30:09 +0000 2019</td>\n      <td>@rshields37 A Florida dog is an escaped pet py...</td>\n    </tr>\n    <tr>\n      <th>11</th>\n      <td>Fri Nov 22 18:30:10 +0000 2019</td>\n      <td>RT @thedailyhunch: Unlike its opposite, Gemini...</td>\n    </tr>\n    <tr>\n      <th>12</th>\n      <td>Fri Nov 22 18:30:15 +0000 2019</td>\n      <td>@RobinMazumder https://t.co/foFJMnhoF1 has nic...</td>\n    </tr>\n    <tr>\n      <th>13</th>\n      <td>Fri Nov 22 18:30:18 +0000 2019</td>\n      <td>RT @The_Python_DEV: This article explains some...</td>\n    </tr>\n    <tr>\n      <th>14</th>\n      <td>Fri Nov 22 18:30:21 +0000 2019</td>\n      <td>I'll dive into the big data so you don't have ...</td>\n    </tr>\n    <tr>\n      <th>15</th>\n      <td>Fri Nov 22 18:30:22 +0000 2019</td>\n      <td>How to Build Your Own Logistic Regression Mode...</td>\n    </tr>\n    <tr>\n      <th>16</th>\n      <td>Fri Nov 22 18:30:25 +0000 2019</td>\n      <td>RT @cichuck: Interesting... Netflix open-sourc...</td>\n    </tr>\n    <tr>\n      <th>17</th>\n      <td>Fri Nov 22 18:30:25 +0000 2019</td>\n      <td>#Spectrum My #InternetSpeed :\\nPing: 28.772 ms...</td>\n    </tr>\n    <tr>\n      <th>18</th>\n      <td>Fri Nov 22 18:30:25 +0000 2019</td>\n      <td>#AI makes for better salespeople and more effi...</td>\n    </tr>\n    <tr>\n      <th>19</th>\n      <td>Fri Nov 22 18:30:28 +0000 2019</td>\n      <td>Meet Kait! She is an Analytics Engineer at VSP...</td>\n    </tr>\n    <tr>\n      <th>20</th>\n      <td>Fri Nov 22 18:30:29 +0000 2019</td>\n      <td>Can't wait to hear more from @LoweCM @DavidKTN...</td>\n    </tr>\n    <tr>\n      <th>21</th>\n      <td>Fri Nov 22 18:30:30 +0000 2019</td>\n      <td>RT @CMU_Stats: Congratulations to @CMU_Stats @...</td>\n    </tr>\n    <tr>\n      <th>22</th>\n      <td>Fri Nov 22 18:30:31 +0000 2019</td>\n      <td>@AliceJurak To nije iznenađenje ,trebala je os...</td>\n    </tr>\n    <tr>\n      <th>23</th>\n      <td>Fri Nov 22 18:30:33 +0000 2019</td>\n      <td>RT @pcoronaf: Un problema a común en varias vu...</td>\n    </tr>\n    <tr>\n      <th>24</th>\n      <td>Fri Nov 22 18:30:35 +0000 2019</td>\n      <td>RT @ecuarauz: Es tan sencillo como lo siguient...</td>\n    </tr>\n    <tr>\n      <th>25</th>\n      <td>Fri Nov 22 18:30:37 +0000 2019</td>\n      <td>How to build a successful #app! \\n\\n#python #j...</td>\n    </tr>\n    <tr>\n      <th>26</th>\n      <td>Fri Nov 22 18:30:37 +0000 2019</td>\n      <td>RT @Yangolution: #MSNBCFearsYang Because data ...</td>\n    </tr>\n    <tr>\n      <th>27</th>\n      <td>Fri Nov 22 18:30:41 +0000 2019</td>\n      <td>The smart people who drive real business innov...</td>\n    </tr>\n    <tr>\n      <th>28</th>\n      <td>Fri Nov 22 18:30:43 +0000 2019</td>\n      <td>RT @r3c0nst: Just published my #IDAPython scri...</td>\n    </tr>\n    <tr>\n      <th>29</th>\n      <td>Fri Nov 22 18:30:43 +0000 2019</td>\n      <td>Data Science and Machine Learning: Lab Set Up ...</td>\n    </tr>\n    <tr>\n      <th>30</th>\n      <td>Fri Nov 22 18:30:44 +0000 2019</td>\n      <td>RT @AverettU1859: Collaboration at its best! A...</td>\n    </tr>\n    <tr>\n      <th>31</th>\n      <td>Fri Nov 22 18:30:50 +0000 2019</td>\n      <td>EBOOK Download Python Machine Learning: Machin...</td>\n    </tr>\n    <tr>\n      <th>32</th>\n      <td>Fri Nov 22 18:30:54 +0000 2019</td>\n      <td>Check out my Gig on Fiverr: do excel data entr...</td>\n    </tr>\n    <tr>\n      <th>33</th>\n      <td>Fri Nov 22 18:30:58 +0000 2019</td>\n      <td>(2)\\n\\nWhich of these do you think you can ded...</td>\n    </tr>\n    <tr>\n      <th>34</th>\n      <td>Fri Nov 22 18:30:58 +0000 2019</td>\n      <td>RT @Amy_Siskind: I am checking out this altern...</td>\n    </tr>\n    <tr>\n      <th>35</th>\n      <td>Fri Nov 22 18:31:04 +0000 2019</td>\n      <td>RT @6Polymath: @BuckSexton @moulton_anne The M...</td>\n    </tr>\n    <tr>\n      <th>36</th>\n      <td>Fri Nov 22 18:31:06 +0000 2019</td>\n      <td>RT @MikeAshfield3: Absolutely loving @DataCamp...</td>\n    </tr>\n    <tr>\n      <th>37</th>\n      <td>Fri Nov 22 18:31:07 +0000 2019</td>\n      <td>RT @Deep_In_Depth: NASA applying AI technologi...</td>\n    </tr>\n    <tr>\n      <th>38</th>\n      <td>Fri Nov 22 18:31:07 +0000 2019</td>\n      <td>RT @BeardySmeardy: #Spectrum My #InternetSpeed...</td>\n    </tr>\n    <tr>\n      <th>39</th>\n      <td>Fri Nov 22 18:31:11 +0000 2019</td>\n      <td>RT @esacrosa: Acabo de escuchar a un nene de 1...</td>\n    </tr>\n    <tr>\n      <th>40</th>\n      <td>Fri Nov 22 18:31:14 +0000 2019</td>\n      <td>RT @StillCrankyAF: History repeats.\\n\\nFirst a...</td>\n    </tr>\n    <tr>\n      <th>41</th>\n      <td>Fri Nov 22 18:31:19 +0000 2019</td>\n      <td>This is great news #FAU has received the Unive...</td>\n    </tr>\n    <tr>\n      <th>42</th>\n      <td>Fri Nov 22 18:31:30 +0000 2019</td>\n      <td>For those of us lucky to know the Fienbergs in...</td>\n    </tr>\n    <tr>\n      <th>43</th>\n      <td>Fri Nov 22 18:31:31 +0000 2019</td>\n      <td>Reduce Pandas memory usage by loading less dat...</td>\n    </tr>\n    <tr>\n      <th>44</th>\n      <td>Fri Nov 22 18:31:31 +0000 2019</td>\n      <td>python 자료구조(2) #python https://t.co/aEprA7tKbz</td>\n    </tr>\n    <tr>\n      <th>45</th>\n      <td>Fri Nov 22 18:31:41 +0000 2019</td>\n      <td>RT @lukedepulford: Important from @Johnny_HKWa...</td>\n    </tr>\n    <tr>\n      <th>46</th>\n      <td>Fri Nov 22 18:31:42 +0000 2019</td>\n      <td>Just created a disk/file encryption and decryp...</td>\n    </tr>\n    <tr>\n      <th>47</th>\n      <td>Fri Nov 22 18:31:44 +0000 2019</td>\n      <td>RT @juddsaul: Monty Python was way ahead of th...</td>\n    </tr>\n    <tr>\n      <th>48</th>\n      <td>Fri Nov 22 18:31:45 +0000 2019</td>\n      <td>RT @BabuuDx: @louisakjames Truly speaking , i'...</td>\n    </tr>\n    <tr>\n      <th>49</th>\n      <td>Fri Nov 22 18:31:45 +0000 2019</td>\n      <td>RT @Amy_Siskind: I am checking out this altern...</td>\n    </tr>\n    <tr>\n      <th>50</th>\n      <td>Fri Nov 22 18:31:47 +0000 2019</td>\n      <td>RT @aicdev: Just created a disk/file encryptio...</td>\n    </tr>\n    <tr>\n      <th>51</th>\n      <td>Fri Nov 22 18:31:48 +0000 2019</td>\n      <td>RT @TanukiMaria: I love how \"Monty Python's Ho...</td>\n    </tr>\n    <tr>\n      <th>52</th>\n      <td>Fri Nov 22 18:31:50 +0000 2019</td>\n      <td>RT @mathegram: Thank  @tugraz for providing ex...</td>\n    </tr>\n    <tr>\n      <th>53</th>\n      <td>Fri Nov 22 18:31:52 +0000 2019</td>\n      <td>RT @MikeAshfield3: Absolutely loving @DataCamp...</td>\n    </tr>\n    <tr>\n      <th>54</th>\n      <td>Fri Nov 22 18:31:53 +0000 2019</td>\n      <td>https://t.co/YQXLBcE6Bc</td>\n    </tr>\n    <tr>\n      <th>55</th>\n      <td>Fri Nov 22 18:31:56 +0000 2019</td>\n      <td>RT @GilenoFilho: Deveria ser crime usar o Orac...</td>\n    </tr>\n    <tr>\n      <th>56</th>\n      <td>Fri Nov 22 18:32:00 +0000 2019</td>\n      <td>Is you tweetbot on python 2.7 or python 3 ?</td>\n    </tr>\n    <tr>\n      <th>57</th>\n      <td>Fri Nov 22 18:31:58 +0000 2019</td>\n      <td>RT @juddsaul: Monty Python was way ahead of th...</td>\n    </tr>\n  </tbody>\n</table>\n</div>",
      "text/plain": "                        created_at  \\\n0   Fri Nov 22 18:30:01 +0000 2019   \n1   Fri Nov 22 18:30:01 +0000 2019   \n2   Fri Nov 22 18:30:03 +0000 2019   \n3   Fri Nov 22 18:30:03 +0000 2019   \n4   Fri Nov 22 18:30:04 +0000 2019   \n5   Fri Nov 22 18:30:05 +0000 2019   \n6   Fri Nov 22 18:30:05 +0000 2019   \n7   Fri Nov 22 18:30:06 +0000 2019   \n8   Fri Nov 22 18:30:08 +0000 2019   \n9   Fri Nov 22 18:30:09 +0000 2019   \n10  Fri Nov 22 18:30:09 +0000 2019   \n11  Fri Nov 22 18:30:10 +0000 2019   \n12  Fri Nov 22 18:30:15 +0000 2019   \n13  Fri Nov 22 18:30:18 +0000 2019   \n14  Fri Nov 22 18:30:21 +0000 2019   \n15  Fri Nov 22 18:30:22 +0000 2019   \n16  Fri Nov 22 18:30:25 +0000 2019   \n17  Fri Nov 22 18:30:25 +0000 2019   \n18  Fri Nov 22 18:30:25 +0000 2019   \n19  Fri Nov 22 18:30:28 +0000 2019   \n20  Fri Nov 22 18:30:29 +0000 2019   \n21  Fri Nov 22 18:30:30 +0000 2019   \n22  Fri Nov 22 18:30:31 +0000 2019   \n23  Fri Nov 22 18:30:33 +0000 2019   \n24  Fri Nov 22 18:30:35 +0000 2019   \n25  Fri Nov 22 18:30:37 +0000 2019   \n26  Fri Nov 22 18:30:37 +0000 2019   \n27  Fri Nov 22 18:30:41 +0000 2019   \n28  Fri Nov 22 18:30:43 +0000 2019   \n29  Fri Nov 22 18:30:43 +0000 2019   \n30  Fri Nov 22 18:30:44 +0000 2019   \n31  Fri Nov 22 18:30:50 +0000 2019   \n32  Fri Nov 22 18:30:54 +0000 2019   \n33  Fri Nov 22 18:30:58 +0000 2019   \n34  Fri Nov 22 18:30:58 +0000 2019   \n35  Fri Nov 22 18:31:04 +0000 2019   \n36  Fri Nov 22 18:31:06 +0000 2019   \n37  Fri Nov 22 18:31:07 +0000 2019   \n38  Fri Nov 22 18:31:07 +0000 2019   \n39  Fri Nov 22 18:31:11 +0000 2019   \n40  Fri Nov 22 18:31:14 +0000 2019   \n41  Fri Nov 22 18:31:19 +0000 2019   \n42  Fri Nov 22 18:31:30 +0000 2019   \n43  Fri Nov 22 18:31:31 +0000 2019   \n44  Fri Nov 22 18:31:31 +0000 2019   \n45  Fri Nov 22 18:31:41 +0000 2019   \n46  Fri Nov 22 18:31:42 +0000 2019   \n47  Fri Nov 22 18:31:44 +0000 2019   \n48  Fri Nov 22 18:31:45 +0000 2019   \n49  Fri Nov 22 18:31:45 +0000 2019   \n50  Fri Nov 22 18:31:47 +0000 2019   \n51  Fri Nov 22 18:31:48 +0000 2019   \n52  Fri Nov 22 18:31:50 +0000 2019   \n53  Fri Nov 22 18:31:52 +0000 2019   \n54  Fri Nov 22 18:31:53 +0000 2019   \n55  Fri Nov 22 18:31:56 +0000 2019   \n56  Fri Nov 22 18:32:00 +0000 2019   \n57  Fri Nov 22 18:31:58 +0000 2019   \n\n                                                 text  \n0   Carlos Morrás: \"Gracias al Big data se está av...  \n1   Only 1 month 9 days 5 hours 29 minutes left un...  \n2   RT @ThisIsAbtin: With Gopher snakes who wants ...  \n3   RT @ProgrammerBooks: CCDA 200-310 Official Cer...  \n4   ☀ Hiring: #QA Tester with strong SQL and Big D...  \n5   RT @ThisIsAbtin: With Gopher snakes who wants ...  \n6   RT @ProgrammerBooks: CCDA 200-310 Official Cer...  \n7   2020 is just around the corner! And Data Scien...  \n8   RT @ProgrammerBooks: CCDA 200-310 Official Cer...  \n9   Big data set to define the role of an asset ma...  \n10  @rshields37 A Florida dog is an escaped pet py...  \n11  RT @thedailyhunch: Unlike its opposite, Gemini...  \n12  @RobinMazumder https://t.co/foFJMnhoF1 has nic...  \n13  RT @The_Python_DEV: This article explains some...  \n14  I'll dive into the big data so you don't have ...  \n15  How to Build Your Own Logistic Regression Mode...  \n16  RT @cichuck: Interesting... Netflix open-sourc...  \n17  #Spectrum My #InternetSpeed :\\nPing: 28.772 ms...  \n18  #AI makes for better salespeople and more effi...  \n19  Meet Kait! She is an Analytics Engineer at VSP...  \n20  Can't wait to hear more from @LoweCM @DavidKTN...  \n21  RT @CMU_Stats: Congratulations to @CMU_Stats @...  \n22  @AliceJurak To nije iznenađenje ,trebala je os...  \n23  RT @pcoronaf: Un problema a común en varias vu...  \n24  RT @ecuarauz: Es tan sencillo como lo siguient...  \n25  How to build a successful #app! \\n\\n#python #j...  \n26  RT @Yangolution: #MSNBCFearsYang Because data ...  \n27  The smart people who drive real business innov...  \n28  RT @r3c0nst: Just published my #IDAPython scri...  \n29  Data Science and Machine Learning: Lab Set Up ...  \n30  RT @AverettU1859: Collaboration at its best! A...  \n31  EBOOK Download Python Machine Learning: Machin...  \n32  Check out my Gig on Fiverr: do excel data entr...  \n33  (2)\\n\\nWhich of these do you think you can ded...  \n34  RT @Amy_Siskind: I am checking out this altern...  \n35  RT @6Polymath: @BuckSexton @moulton_anne The M...  \n36  RT @MikeAshfield3: Absolutely loving @DataCamp...  \n37  RT @Deep_In_Depth: NASA applying AI technologi...  \n38  RT @BeardySmeardy: #Spectrum My #InternetSpeed...  \n39  RT @esacrosa: Acabo de escuchar a un nene de 1...  \n40  RT @StillCrankyAF: History repeats.\\n\\nFirst a...  \n41  This is great news #FAU has received the Unive...  \n42  For those of us lucky to know the Fienbergs in...  \n43  Reduce Pandas memory usage by loading less dat...  \n44     python 자료구조(2) #python https://t.co/aEprA7tKbz  \n45  RT @lukedepulford: Important from @Johnny_HKWa...  \n46  Just created a disk/file encryption and decryp...  \n47  RT @juddsaul: Monty Python was way ahead of th...  \n48  RT @BabuuDx: @louisakjames Truly speaking , i'...  \n49  RT @Amy_Siskind: I am checking out this altern...  \n50  RT @aicdev: Just created a disk/file encryptio...  \n51  RT @TanukiMaria: I love how \"Monty Python's Ho...  \n52  RT @mathegram: Thank  @tugraz for providing ex...  \n53  RT @MikeAshfield3: Absolutely loving @DataCamp...  \n54                            https://t.co/YQXLBcE6Bc  \n55  RT @GilenoFilho: Deveria ser crime usar o Orac...  \n56        Is you tweetbot on python 2.7 or python 3 ?  \n57  RT @juddsaul: Monty Python was way ahead of th...  "
     },
     "execution_count": 23,
     "metadata": {},
     "output_type": "execute_result"
    }
   ],
   "source": [
    "# Imprimindo o dataframe\n",
    "df"
   ]
  },
  {
   "cell_type": "code",
   "execution_count": 24,
   "metadata": {},
   "outputs": [],
   "source": [
    "# Importando o módulo Scikit Learn\n",
    "from sklearn.feature_extraction.text import CountVectorizer"
   ]
  },
  {
   "cell_type": "code",
   "execution_count": 25,
   "metadata": {},
   "outputs": [],
   "source": [
    "# Usando o método CountVectorizer para criar uma matriz de documentos \n",
    "cv = CountVectorizer()\n",
    "count_matrix = cv.fit_transform(df.text)"
   ]
  },
  {
   "cell_type": "code",
   "execution_count": 27,
   "metadata": {},
   "outputs": [
    {
     "data": {
      "text/html": "<div>\n<style scoped>\n    .dataframe tbody tr th:only-of-type {\n        vertical-align: middle;\n    }\n\n    .dataframe tbody tr th {\n        vertical-align: top;\n    }\n\n    .dataframe thead th {\n        text-align: right;\n    }\n</style>\n<table border=\"1\" class=\"dataframe\">\n  <thead>\n    <tr style=\"text-align: right;\">\n      <th></th>\n      <th>word</th>\n      <th>count</th>\n    </tr>\n  </thead>\n  <tbody>\n    <tr>\n      <th>0</th>\n      <td>co</td>\n      <td>33</td>\n    </tr>\n    <tr>\n      <th>1</th>\n      <td>https</td>\n      <td>33</td>\n    </tr>\n    <tr>\n      <th>2</th>\n      <td>python</td>\n      <td>32</td>\n    </tr>\n    <tr>\n      <th>3</th>\n      <td>rt</td>\n      <td>31</td>\n    </tr>\n    <tr>\n      <th>4</th>\n      <td>and</td>\n      <td>22</td>\n    </tr>\n    <tr>\n      <th>5</th>\n      <td>to</td>\n      <td>21</td>\n    </tr>\n    <tr>\n      <th>6</th>\n      <td>data</td>\n      <td>19</td>\n    </tr>\n    <tr>\n      <th>7</th>\n      <td>of</td>\n      <td>16</td>\n    </tr>\n    <tr>\n      <th>8</th>\n      <td>the</td>\n      <td>13</td>\n    </tr>\n    <tr>\n      <th>9</th>\n      <td>in</td>\n      <td>12</td>\n    </tr>\n    <tr>\n      <th>10</th>\n      <td>for</td>\n      <td>11</td>\n    </tr>\n    <tr>\n      <th>11</th>\n      <td>is</td>\n      <td>10</td>\n    </tr>\n    <tr>\n      <th>12</th>\n      <td>with</td>\n      <td>8</td>\n    </tr>\n    <tr>\n      <th>13</th>\n      <td>de</td>\n      <td>8</td>\n    </tr>\n    <tr>\n      <th>14</th>\n      <td>it</td>\n      <td>7</td>\n    </tr>\n    <tr>\n      <th>15</th>\n      <td>you</td>\n      <td>7</td>\n    </tr>\n    <tr>\n      <th>16</th>\n      <td>this</td>\n      <td>6</td>\n    </tr>\n    <tr>\n      <th>17</th>\n      <td>an</td>\n      <td>6</td>\n    </tr>\n    <tr>\n      <th>18</th>\n      <td>on</td>\n      <td>6</td>\n    </tr>\n    <tr>\n      <th>19</th>\n      <td>just</td>\n      <td>5</td>\n    </tr>\n    <tr>\n      <th>20</th>\n      <td>monty</td>\n      <td>5</td>\n    </tr>\n    <tr>\n      <th>21</th>\n      <td>learning</td>\n      <td>5</td>\n    </tr>\n    <tr>\n      <th>22</th>\n      <td>science</td>\n      <td>5</td>\n    </tr>\n    <tr>\n      <th>23</th>\n      <td>can</td>\n      <td>5</td>\n    </tr>\n    <tr>\n      <th>24</th>\n      <td>facebook</td>\n      <td>5</td>\n    </tr>\n    <tr>\n      <th>25</th>\n      <td>how</td>\n      <td>4</td>\n    </tr>\n    <tr>\n      <th>26</th>\n      <td>from</td>\n      <td>4</td>\n    </tr>\n    <tr>\n      <th>27</th>\n      <td>javascript</td>\n      <td>4</td>\n    </tr>\n    <tr>\n      <th>28</th>\n      <td>am</td>\n      <td>4</td>\n    </tr>\n    <tr>\n      <th>29</th>\n      <td>has</td>\n      <td>4</td>\n    </tr>\n    <tr>\n      <th>30</th>\n      <td>more</td>\n      <td>4</td>\n    </tr>\n    <tr>\n      <th>31</th>\n      <td>machine</td>\n      <td>4</td>\n    </tr>\n    <tr>\n      <th>32</th>\n      <td>mbit</td>\n      <td>4</td>\n    </tr>\n    <tr>\n      <th>33</th>\n      <td>ai</td>\n      <td>4</td>\n    </tr>\n    <tr>\n      <th>34</th>\n      <td>gt</td>\n      <td>4</td>\n    </tr>\n    <tr>\n      <th>35</th>\n      <td>my</td>\n      <td>4</td>\n    </tr>\n    <tr>\n      <th>36</th>\n      <td>as</td>\n      <td>4</td>\n    </tr>\n    <tr>\n      <th>37</th>\n      <td>so</td>\n      <td>4</td>\n    </tr>\n    <tr>\n      <th>38</th>\n      <td>big</td>\n      <td>4</td>\n    </tr>\n    <tr>\n      <th>39</th>\n      <td>guide</td>\n      <td>4</td>\n    </tr>\n    <tr>\n      <th>40</th>\n      <td>edition</td>\n      <td>3</td>\n    </tr>\n    <tr>\n      <th>41</th>\n      <td>download</td>\n      <td>3</td>\n    </tr>\n    <tr>\n      <th>42</th>\n      <td>cert</td>\n      <td>3</td>\n    </tr>\n    <tr>\n      <th>43</th>\n      <td>ccda</td>\n      <td>3</td>\n    </tr>\n    <tr>\n      <th>44</th>\n      <td>11</td>\n      <td>3</td>\n    </tr>\n    <tr>\n      <th>45</th>\n      <td>here</td>\n      <td>3</td>\n    </tr>\n    <tr>\n      <th>46</th>\n      <td>la</td>\n      <td>3</td>\n    </tr>\n    <tr>\n      <th>47</th>\n      <td>because</td>\n      <td>3</td>\n    </tr>\n    <tr>\n      <th>48</th>\n      <td>meet</td>\n      <td>3</td>\n    </tr>\n    <tr>\n      <th>49</th>\n      <td>mfnrsxigfg</td>\n      <td>3</td>\n    </tr>\n  </tbody>\n</table>\n</div>",
      "text/plain": "          word  count\n0           co     33\n1        https     33\n2       python     32\n3           rt     31\n4          and     22\n5           to     21\n6         data     19\n7           of     16\n8          the     13\n9           in     12\n10         for     11\n11          is     10\n12        with      8\n13          de      8\n14          it      7\n15         you      7\n16        this      6\n17          an      6\n18          on      6\n19        just      5\n20       monty      5\n21    learning      5\n22     science      5\n23         can      5\n24    facebook      5\n25         how      4\n26        from      4\n27  javascript      4\n28          am      4\n29         has      4\n30        more      4\n31     machine      4\n32        mbit      4\n33          ai      4\n34          gt      4\n35          my      4\n36          as      4\n37          so      4\n38         big      4\n39       guide      4\n40     edition      3\n41    download      3\n42        cert      3\n43        ccda      3\n44          11      3\n45        here      3\n46          la      3\n47     because      3\n48        meet      3\n49  mfnrsxigfg      3"
     },
     "execution_count": 27,
     "metadata": {},
     "output_type": "execute_result"
    }
   ],
   "source": [
    "# Contando o número de ocorrências das principais palavras em nosso dataset\n",
    "word_count = pd.DataFrame(cv.get_feature_names(), columns=['word'])\n",
    "word_count['count'] = count_matrix.sum(axis=0).tolist()[0]\n",
    "word_count = word_count.sort_values('count', ascending=False).reset_index(drop=True)\n",
    "word_count[:50]"
   ]
  }
 ]
}