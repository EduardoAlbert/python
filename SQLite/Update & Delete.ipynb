{
 "nbformat": 4,
 "nbformat_minor": 2,
 "metadata": {
  "language_info": {
   "name": "python",
   "codemirror_mode": {
    "name": "ipython",
    "version": 3
   },
   "version": "3.6.5"
  },
  "orig_nbformat": 2,
  "file_extension": ".py",
  "mimetype": "text/x-python",
  "name": "python",
  "npconvert_exporter": "python",
  "pygments_lexer": "ipython3",
  "version": 3
 },
 "cells": [
  {
   "cell_type": "code",
   "execution_count": 10,
   "metadata": {},
   "outputs": [],
   "source": [
    "import sqlite3\n",
    "import random\n",
    "import time\n",
    "import datetime\n",
    "\n",
    "# Criando conexão\n",
    "conn = sqlite3.connect('SQLite/dsa.db')\n",
    "\n",
    "# Criando um cursor\n",
    "c = conn.cursor()\n",
    "\n",
    "# Função para criar uma tabela\n",
    "def create_table():\n",
    "    c.execute('CREATE TABLE IF NOT EXISTS produtos(id INTEGER PRIMARY KEY AUTOINCREMENT NOT NULL, date TEXT, ' \\\n",
    "              'prod_name TEXT, valor REAL)')\n",
    "\n",
    "# Função para inserir uma linha\n",
    "def data_insert():\n",
    "    c.execute(\"INSERT INTO produtos VALUES('2018-05-02 12:34:45', 'Teclado', '130.00')\")\n",
    "    conn.commit()\n",
    "    c.close()\n",
    "    conn.close()\n",
    "\n",
    "# Usando variáveis para inserir dados\n",
    "def data_insert_var():\n",
    "    new_date = datetime.datetime.now()\n",
    "    new_prod_name = 'Monitor'\n",
    "    new_valor = random.randrange(50, 100)\n",
    "    c.execute(\"INSERT INTO produtos (date, prod_name, valor) VALUES (?, ?, ?)\", (new_date, new_prod_name, new_valor))\n",
    "    conn.commit()\n",
    "\n",
    "# Leitura de todos os dados\n",
    "def leitura_todos_dados():\n",
    "    c.execute(\"SELECT * FROM PRODUTOS\")\n",
    "    print('Todos os produtos:')\n",
    "    for linha in c.fetchall():\n",
    "        print(linha)\n",
    "\n",
    "# Leitura de registros específicos \n",
    "def leitura_registros():\n",
    "    c.execute(\"SELECT * FROM PRODUTOS WHERE valor > 60.0\")\n",
    "    print('Produtos com preço acima de R$60.0')\n",
    "    for linha in c.fetchall():\n",
    "        print(linha)\n",
    "\n",
    "# Leitura de colunas específicas\n",
    "def leitura_colunas():\n",
    "    c.execute(\"SELECT * FROM PRODUTOS\")\n",
    "    print('Coluna de Preços:')\n",
    "    for linha in c.fetchall():\n",
    "        print(linha[3])\n",
    "\n",
    "# Update\n",
    "def atualiza_dados():\n",
    "    c.execute(\"UPDATE produtos SET valor = 70.00 WHERE valor = 62.0\")\n",
    "    conn.commit()\n",
    "\n",
    "# Delete\n",
    "def remove_dados():\n",
    "    c.execute(\"DELETE FROM produtos WHERE valor = 77.0\")\n",
    "    conn.commit()"
   ]
  },
  {
   "cell_type": "code",
   "execution_count": 8,
   "metadata": {},
   "outputs": [],
   "source": [
    "atualiza_dados()"
   ]
  },
  {
   "cell_type": "code",
   "execution_count": 9,
   "metadata": {},
   "outputs": [
    {
     "name": "stdout",
     "output_type": "stream",
     "text": "Todos os produtos:\n(10, '2018-05-02 14:32:11', 'Teclado', 90.0)\n(11, '2019-11-20 23:36:46.348132', 'Monitor', 77.0)\n(12, '2019-11-20 23:36:47.492937', 'Monitor', 76.0)\n(13, '2019-11-20 23:36:48.553969', 'Monitor', 97.0)\n(14, '2019-11-20 23:36:49.615562', 'Monitor', 70.0)\n(15, '2019-11-20 23:36:50.718774', 'Monitor', 69.0)\n(16, '2019-11-20 23:36:51.829234', 'Monitor', 61.0)\n(17, '2019-11-20 23:36:52.990041', 'Monitor', 97.0)\n(18, '2019-11-20 23:36:54.077459', 'Monitor', 93.0)\n(19, '2019-11-20 23:36:55.181287', 'Monitor', 75.0)\n(20, '2019-11-20 23:36:56.360048', 'Monitor', 54.0)\n"
    }
   ],
   "source": [
    "leitura_todos_dados()"
   ]
  },
  {
   "cell_type": "code",
   "execution_count": 11,
   "metadata": {},
   "outputs": [],
   "source": [
    "remove_dados()"
   ]
  },
  {
   "cell_type": "code",
   "execution_count": 12,
   "metadata": {},
   "outputs": [
    {
     "name": "stdout",
     "output_type": "stream",
     "text": "Todos os produtos:\n(10, '2018-05-02 14:32:11', 'Teclado', 90.0)\n(12, '2019-11-20 23:36:47.492937', 'Monitor', 76.0)\n(13, '2019-11-20 23:36:48.553969', 'Monitor', 97.0)\n(14, '2019-11-20 23:36:49.615562', 'Monitor', 70.0)\n(15, '2019-11-20 23:36:50.718774', 'Monitor', 69.0)\n(16, '2019-11-20 23:36:51.829234', 'Monitor', 61.0)\n(17, '2019-11-20 23:36:52.990041', 'Monitor', 97.0)\n(18, '2019-11-20 23:36:54.077459', 'Monitor', 93.0)\n(19, '2019-11-20 23:36:55.181287', 'Monitor', 75.0)\n(20, '2019-11-20 23:36:56.360048', 'Monitor', 54.0)\n"
    }
   ],
   "source": [
    "leitura_todos_dados()"
   ]
  }
 ]
}