{
 "cells": [
  {
   "source": [
    "import os\n",
    "\n",
    "os.remove(\"escola.db\") if os.path.exists(\"escola.db\") else None"
   ],
   "cell_type": "code",
   "outputs": [],
   "metadata": {},
   "execution_count": 27
  },
  {
   "source": [
    "import sqlite3\n",
    "\n",
    "# Cria uma conexão com o banco de dados.\n",
    "# Se o banco de dados não existir, ele é criado neste momento\n",
    "con = sqlite3.connect('SQLite/escola.db')"
   ],
   "cell_type": "code",
   "outputs": [],
   "metadata": {},
   "execution_count": 28
  },
  {
   "source": [
    "cur = con.cursor()"
   ],
   "cell_type": "code",
   "outputs": [],
   "metadata": {},
   "execution_count": 29
  },
  {
   "source": [
    "# Cria uma instrução sql\n",
    "sql_create = 'create table cursos '\\\n",
    "  '(id integer primary key, '\\\n",
    "  'titulo varchar(100), '\\\n",
    "  'categoria varchar(140))'"
   ],
   "cell_type": "code",
   "outputs": [],
   "metadata": {},
   "execution_count": 30
  },
  {
   "source": [
    "cur.execute(sql_create)"
   ],
   "cell_type": "code",
   "outputs": [
    {
     "output_type": "execute_result",
     "data": {
      "text/plain": "<sqlite3.Cursor at 0x241acdebf80>"
     },
     "metadata": {},
     "execution_count": 31
    }
   ],
   "metadata": {},
   "execution_count": 31
  },
  {
   "source": [
    "# Criando outra sentença SQL para inserir registros\n",
    "sql_insert = 'insert into cursos values (?, ?, ?)'"
   ],
   "cell_type": "code",
   "outputs": [],
   "metadata": {},
   "execution_count": 32
  },
  {
   "source": [
    "# Dados\n",
    "recset = [(1000, 'Ciência de Dados', 'Data Science'),\n",
    "          (1001, 'Big Data Fundamentos', 'Big Data'),\n",
    "          (1002, 'Python Fundamentos', 'Análise de Dados')]\n",
    ""
   ],
   "cell_type": "code",
   "outputs": [],
   "metadata": {},
   "execution_count": 33
  },
  {
   "source": [
    "# Inserindo os registros\n",
    "for rec in recset:\n",
    "  cur.execute(sql_insert, rec)"
   ],
   "cell_type": "code",
   "outputs": [],
   "metadata": {},
   "execution_count": 34
  },
  {
   "source": [
    "# Grava a transação\n",
    "con.commit()"
   ],
   "cell_type": "code",
   "outputs": [],
   "metadata": {},
   "execution_count": 35
  },
  {
   "source": [
    "# Criando outra sentença SQL para selecionar registros \n",
    "sql_select = 'select * from cursos'"
   ],
   "cell_type": "code",
   "outputs": [],
   "metadata": {},
   "execution_count": 36
  },
  {
   "source": [
    "# Seleciona todos os registros e recura os registros \n",
    "cur.execute(sql_select)\n",
    "dados = cur.fetchall()"
   ],
   "cell_type": "code",
   "outputs": [],
   "metadata": {},
   "execution_count": 37
  },
  {
   "source": [
    "# Exibindo\n",
    "for linha in dados:\n",
    "    print('Curso Id: %d, Título: %s, Categoria: %s \\n' % linha)"
   ],
   "cell_type": "code",
   "outputs": [
    {
     "output_type": "stream",
     "name": "stdout",
     "text": "Curso Id: 1000, Título: Ciência de Dados, Categoria: Data Science \n\nCurso Id: 1001, Título: Big Data Fundamentos, Categoria: Big Data \n\nCurso Id: 1002, Título: Python Fundamentos, Categoria: Análise de Dados \n\n"
    }
   ],
   "metadata": {},
   "execution_count": 38
  },
  {
   "source": [
    "# Gerando outros registros\n",
    "recset = [(1003, 'Gestão de Dados com MongoDB', 'Big Data'),\n",
    "          (1004, 'R Fundamentos', 'Análise de Dados')]\n",
    "\n",
    "# Inserindo os registros\n",
    "for rec in recset:\n",
    "    cur.execute(sql_insert, rec)\n",
    "\n",
    "# Gravando a transação\n",
    "con.commit()"
   ],
   "cell_type": "code",
   "outputs": [],
   "metadata": {},
   "execution_count": 39
  },
  {
   "source": [
    "# Seleciona todos os registros\n",
    "cur.execute('select * from cursos')\n",
    "\n",
    "# Recupera os resultados\n",
    "recset = cur.fetchall()\n",
    "\n",
    "# Mostra\n",
    "for rec in recset:\n",
    "    print('Curso Id: %d, Título: %s, Categoria: %s \\n' % rec)"
   ],
   "cell_type": "code",
   "outputs": [
    {
     "output_type": "stream",
     "name": "stdout",
     "text": "Curso Id: 1000, Título: Ciência de Dados, Categoria: Data Science \n\nCurso Id: 1001, Título: Big Data Fundamentos, Categoria: Big Data \n\nCurso Id: 1002, Título: Python Fundamentos, Categoria: Análise de Dados \n\nCurso Id: 1003, Título: Gestão de Dados com MongoDB, Categoria: Big Data \n\nCurso Id: 1004, Título: R Fundamentos, Categoria: Análise de Dados \n\n"
    }
   ],
   "metadata": {},
   "execution_count": 40
  },
  {
   "source": [
    "# Fecha a conexão\n",
    "con.close()"
   ],
   "cell_type": "code",
   "outputs": [],
   "metadata": {},
   "execution_count": 41
  }
 ],
 "metadata": {
  "file_extension": ".py",
  "kernelspec": {
   "display_name": "Python 3",
   "language": "python",
   "name": "python3"
  },
  "language_info": {
   "codemirror_mode": {
    "name": "ipython",
    "version": 3
   },
   "file_extension": ".py",
   "mimetype": "text/x-python",
   "name": "python",
   "nbconvert_exporter": "python",
   "pygments_lexer": "ipython3",
   "version": "3.6.5"
  },
  "mimetype": "text/x-python",
  "name": "python",
  "npconvert_exporter": "python",
  "pygments_lexer": "ipython3",
  "version": 3
 },
 "nbformat": 4,
 "nbformat_minor": 2
}