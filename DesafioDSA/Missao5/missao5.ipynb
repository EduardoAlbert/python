{
 "cells": [
  {
   "cell_type": "markdown",
   "metadata": {},
   "source": [
    "# <font color='blue'>Data Science Academy - Python Fundamentos - Capítulo 7</font>\n",
    "\n",
    "## Download: http://github.com/dsacademybr"
   ]
  },
  {
   "cell_type": "markdown",
   "metadata": {},
   "source": [
    "## Missão: Analisar o Comportamento de Compra de Consumidores."
   ]
  },
  {
   "cell_type": "markdown",
   "metadata": {},
   "source": [
    "## Nível de Dificuldade: Alto"
   ]
  },
  {
   "cell_type": "markdown",
   "metadata": {},
   "source": [
    "Você recebeu a tarefa de analisar os dados de compras de um web site! Os dados estão no formato JSON e disponíveis junto com este notebook.\n",
    "\n",
    "No site, cada usuário efetua login usando sua conta pessoal e pode adquirir produtos à medida que navega pela lista de produtos oferecidos. Cada produto possui um valor de venda. Dados de idade e sexo de cada usuário foram coletados e estão fornecidos no arquivo JSON.\n",
    "\n",
    "Seu trabalho é entregar uma análise de comportamento de compra dos consumidores. Esse é um tipo de atividade comum realizado por Cientistas de Dados e o resultado deste trabalho pode ser usado, por exemplo, para alimentar um modelo de Machine Learning e fazer previsões sobre comportamentos futuros.\n",
    "\n",
    "Mas nesta missão você vai analisar o comportamento de compra dos consumidores usando o pacote Pandas da linguagem Python e seu relatório final deve incluir cada um dos seguintes itens:\n",
    "\n",
    "** Contagem de Consumidores **\n",
    "\n",
    "* Número total de consumidores\n",
    "\n",
    "\n",
    "** Análise Geral de Compras **\n",
    "\n",
    "* Número de itens exclusivos\n",
    "* Preço médio de compra\n",
    "* Número total de compras\n",
    "* Rendimento total\n",
    "\n",
    "\n",
    "** Informações Demográficas Por Gênero **\n",
    "\n",
    "* Porcentagem e contagem de compradores masculinos\n",
    "* Porcentagem e contagem de compradores do sexo feminino\n",
    "* Porcentagem e contagem de outros / não divulgados\n",
    "\n",
    "\n",
    "** Análise de Compras Por Gênero **\n",
    "\n",
    "* Número de compras\n",
    "* Preço médio de compra\n",
    "* Valor Total de Compra\n",
    "* Compras for faixa etária\n",
    "\n",
    "\n",
    "** Identifique os 5 principais compradores pelo valor total de compra e, em seguida, liste (em uma tabela): **\n",
    "\n",
    "* Login\n",
    "* Número de compras\n",
    "* Preço médio de compra\n",
    "* Valor Total de Compra\n",
    "* Itens mais populares\n",
    "\n",
    "\n",
    "** Identifique os 5 itens mais populares por contagem de compras e, em seguida, liste (em uma tabela): **\n",
    "\n",
    "* ID do item\n",
    "* Nome do item\n",
    "* Número de compras\n",
    "* Preço do item\n",
    "* Valor Total de Compra\n",
    "* Itens mais lucrativos\n",
    "\n",
    "\n",
    "** Identifique os 5 itens mais lucrativos pelo valor total de compra e, em seguida, liste (em uma tabela): **\n",
    "\n",
    "* ID do item\n",
    "* Nome do item\n",
    "* Número de compras\n",
    "* Preço do item\n",
    "* Valor Total de Compra\n",
    "\n",
    "\n",
    "** Como considerações finais: **\n",
    "\n",
    "* Seu script deve funcionar para o conjunto de dados fornecido.\n",
    "* Você deve usar a Biblioteca Pandas e o Jupyter Notebook.\n"
   ]
  },
  {
   "cell_type": "code",
   "execution_count": 1,
   "metadata": {},
   "outputs": [],
   "source": [
    "# Imports\n",
    "import pandas as pd\n",
    "import numpy as np"
   ]
  },
  {
   "cell_type": "code",
   "execution_count": 2,
   "metadata": {},
   "outputs": [
    {
     "data": {
      "text/html": [
       "<div>\n",
       "<style scoped>\n",
       "    .dataframe tbody tr th:only-of-type {\n",
       "        vertical-align: middle;\n",
       "    }\n",
       "\n",
       "    .dataframe tbody tr th {\n",
       "        vertical-align: top;\n",
       "    }\n",
       "\n",
       "    .dataframe thead th {\n",
       "        text-align: right;\n",
       "    }\n",
       "</style>\n",
       "<table border=\"1\" class=\"dataframe\">\n",
       "  <thead>\n",
       "    <tr style=\"text-align: right;\">\n",
       "      <th></th>\n",
       "      <th>Idade</th>\n",
       "      <th>Item ID</th>\n",
       "      <th>Login</th>\n",
       "      <th>Nome do Item</th>\n",
       "      <th>Sexo</th>\n",
       "      <th>Valor</th>\n",
       "    </tr>\n",
       "  </thead>\n",
       "  <tbody>\n",
       "    <tr>\n",
       "      <th>0</th>\n",
       "      <td>38</td>\n",
       "      <td>165</td>\n",
       "      <td>Aelalis34</td>\n",
       "      <td>Bone Crushing Silver Skewer</td>\n",
       "      <td>Masculino</td>\n",
       "      <td>3.37</td>\n",
       "    </tr>\n",
       "    <tr>\n",
       "      <th>1</th>\n",
       "      <td>21</td>\n",
       "      <td>119</td>\n",
       "      <td>Eolo46</td>\n",
       "      <td>Stormbringer, Dark Blade of Ending Misery</td>\n",
       "      <td>Masculino</td>\n",
       "      <td>2.32</td>\n",
       "    </tr>\n",
       "    <tr>\n",
       "      <th>2</th>\n",
       "      <td>34</td>\n",
       "      <td>174</td>\n",
       "      <td>Assastnya25</td>\n",
       "      <td>Primitive Blade</td>\n",
       "      <td>Masculino</td>\n",
       "      <td>2.46</td>\n",
       "    </tr>\n",
       "    <tr>\n",
       "      <th>3</th>\n",
       "      <td>21</td>\n",
       "      <td>92</td>\n",
       "      <td>Pheusrical25</td>\n",
       "      <td>Final Critic</td>\n",
       "      <td>Masculino</td>\n",
       "      <td>1.36</td>\n",
       "    </tr>\n",
       "    <tr>\n",
       "      <th>4</th>\n",
       "      <td>23</td>\n",
       "      <td>63</td>\n",
       "      <td>Aela59</td>\n",
       "      <td>Stormfury Mace</td>\n",
       "      <td>Masculino</td>\n",
       "      <td>1.27</td>\n",
       "    </tr>\n",
       "  </tbody>\n",
       "</table>\n",
       "</div>"
      ],
      "text/plain": [
       "   Idade  Item ID         Login                               Nome do Item  \\\n",
       "0     38      165     Aelalis34                Bone Crushing Silver Skewer   \n",
       "1     21      119        Eolo46  Stormbringer, Dark Blade of Ending Misery   \n",
       "2     34      174   Assastnya25                            Primitive Blade   \n",
       "3     21       92  Pheusrical25                               Final Critic   \n",
       "4     23       63        Aela59                             Stormfury Mace   \n",
       "\n",
       "        Sexo  Valor  \n",
       "0  Masculino   3.37  \n",
       "1  Masculino   2.32  \n",
       "2  Masculino   2.46  \n",
       "3  Masculino   1.36  \n",
       "4  Masculino   1.27  "
      ]
     },
     "execution_count": 2,
     "metadata": {},
     "output_type": "execute_result"
    }
   ],
   "source": [
    "# Carrega o arquivo\n",
    "load_file = \"dados_compras.json\"\n",
    "purchase_file = pd.read_json(load_file, orient = \"records\")\n",
    "purchase_file.head()"
   ]
  },
  {
   "cell_type": "markdown",
   "metadata": {},
   "source": [
    "## Informações Sobre os Consumidores"
   ]
  },
  {
   "cell_type": "code",
   "execution_count": 3,
   "metadata": {},
   "outputs": [
    {
     "name": "stdout",
     "output_type": "stream",
     "text": [
      "Total de consumidores: 780\n"
     ]
    }
   ],
   "source": [
    "# - Número total de consumidores\n",
    "\n",
    "total_of_consumers = purchase_file.Login.count()\n",
    "print(f'Total de consumidores: {total_of_consumers}')"
   ]
  },
  {
   "cell_type": "markdown",
   "metadata": {},
   "source": [
    "## Análise Geral de Compras"
   ]
  },
  {
   "cell_type": "code",
   "execution_count": 4,
   "metadata": {},
   "outputs": [
    {
     "name": "stdout",
     "output_type": "stream",
     "text": [
      "Número de itens exclusivos: 179\n"
     ]
    }
   ],
   "source": [
    "# - Número de itens exclusivos\n",
    "\n",
    "exclusive_itens = []\n",
    "\n",
    "purchase_file = purchase_file.rename(columns={'Nome do Item':'Nome_do_Item'})\n",
    "purchase_file = purchase_file.rename(columns={'Item ID':'Item_ID'})\n",
    "\n",
    "for item in purchase_file.Nome_do_Item:\n",
    "    if item not in exclusive_itens:\n",
    "        exclusive_itens.append(item)\n",
    "\n",
    "print(f'Número de itens exclusivos: {len(exclusive_itens)}')"
   ]
  },
  {
   "cell_type": "code",
   "execution_count": 5,
   "metadata": {},
   "outputs": [
    {
     "name": "stdout",
     "output_type": "stream",
     "text": [
      "Preço médio de compra: $2.88\n"
     ]
    }
   ],
   "source": [
    "# - Preço médio de compra\n",
    "\n",
    "median = purchase_file.Valor.median()\n",
    "print(f'Preço médio de compra: ${median:.2f}')"
   ]
  },
  {
   "cell_type": "code",
   "execution_count": 6,
   "metadata": {},
   "outputs": [
    {
     "name": "stdout",
     "output_type": "stream",
     "text": [
      "Número total de compras: 780\n"
     ]
    }
   ],
   "source": [
    "# - Número total de compras\n",
    "\n",
    "print(f'Número total de compras: {purchase_file.Valor.count()}')"
   ]
  },
  {
   "cell_type": "code",
   "execution_count": 7,
   "metadata": {},
   "outputs": [
    {
     "name": "stdout",
     "output_type": "stream",
     "text": [
      "Rendimento total: $2286.33\n"
     ]
    }
   ],
   "source": [
    "# - Rendimento total\n",
    "\n",
    "print(f'Rendimento total: ${purchase_file.Valor.sum()}')"
   ]
  },
  {
   "cell_type": "markdown",
   "metadata": {},
   "source": [
    "## Informações Demográficas Por Gênero"
   ]
  },
  {
   "cell_type": "code",
   "execution_count": 8,
   "metadata": {},
   "outputs": [
    {
     "name": "stdout",
     "output_type": "stream",
     "text": [
      "Porcentagem de compradores masculinos: 81.2%\n",
      "Contagem de compradores masculinos: 633\n"
     ]
    }
   ],
   "source": [
    "# - Porcentagem e contagem de compradores masculinos\n",
    "\n",
    "tot_masc = 0\n",
    "tot_fem = 0\n",
    "tot_other = 0\n",
    "\n",
    "for sex in purchase_file.Sexo:\n",
    "    if sex == 'Masculino':\n",
    "        tot_masc += 1\n",
    "    elif sex == 'Feminino':\n",
    "        tot_fem += 1\n",
    "    else:\n",
    "        tot_other += 1\n",
    "\n",
    "percent_masc = tot_masc / total_of_consumers * 100\n",
    "\n",
    "print(f'Porcentagem de compradores masculinos: {percent_masc:.1f}%')\n",
    "print(f'Contagem de compradores masculinos: {tot_masc}')"
   ]
  },
  {
   "cell_type": "code",
   "execution_count": 9,
   "metadata": {},
   "outputs": [
    {
     "name": "stdout",
     "output_type": "stream",
     "text": [
      "Porcentagem de compradores do sexo feminino: 17.4%\n",
      "Contagem de compradores do sexo feminino: 136\n"
     ]
    }
   ],
   "source": [
    "# - Porcentagem e contagem de compradores do sexo feminino\n",
    "\n",
    "percent_fem = tot_fem / total_of_consumers * 100\n",
    "print(f'Porcentagem de compradores do sexo feminino: {percent_fem:.1f}%')\n",
    "print(f'Contagem de compradores do sexo feminino: {tot_fem}')"
   ]
  },
  {
   "cell_type": "code",
   "execution_count": 10,
   "metadata": {},
   "outputs": [
    {
     "name": "stdout",
     "output_type": "stream",
     "text": [
      "Porcentagem de outros / não divulgados: 1.4%\n",
      "Contagem de outros / não divulgados: 11\n"
     ]
    }
   ],
   "source": [
    "# - Porcentagem e contagem de outros / não divulgados\n",
    "\n",
    "percent_other = tot_other / total_of_consumers * 100\n",
    "print(f'Porcentagem de outros / não divulgados: {percent_other:.1f}%')\n",
    "print(f'Contagem de outros / não divulgados: {tot_other}')"
   ]
  },
  {
   "cell_type": "markdown",
   "metadata": {},
   "source": [
    "## Análise de Compras Por Gênero"
   ]
  },
  {
   "cell_type": "code",
   "execution_count": 11,
   "metadata": {},
   "outputs": [
    {
     "name": "stdout",
     "output_type": "stream",
     "text": [
      "Número de compras do gênero Masculino: 633\n",
      "Número de compras do gênero Feminino: 136\n",
      "Número de compras de gêneros outros / não divulgados: 11 \n"
     ]
    }
   ],
   "source": [
    "# - Número de compras\n",
    "\n",
    "print(f'Número de compras do gênero Masculino: {tot_masc}')\n",
    "print(f'Número de compras do gênero Feminino: {tot_fem}')\n",
    "print(f'Número de compras de gêneros outros / não divulgados: {tot_other} ')"
   ]
  },
  {
   "cell_type": "code",
   "execution_count": 12,
   "metadata": {},
   "outputs": [
    {
     "name": "stdout",
     "output_type": "stream",
     "text": [
      "Preço médio de compra do gênero Masculino: $2.95\n",
      "Preço médio de compra do gênero Feminino: $2.82\n",
      "Preço médio de compra do gênero Outros / Não divulgados: $3.25\n"
     ]
    }
   ],
   "source": [
    "# - Preço médio de compra\n",
    "\n",
    "tot_purchase_all = purchase_file.Valor.sum()\n",
    "tot_purchase_masc = 0\n",
    "tot_purchase_fem = 0\n",
    "tot_purchase_other = 0\n",
    "\n",
    "for i in range(len(purchase_file)):\n",
    "    if purchase_file.Sexo[i] == 'Masculino':\n",
    "        tot_purchase_masc += purchase_file.Valor[i]\n",
    "    elif purchase_file.Sexo[i] == 'Feminino':\n",
    "        tot_purchase_fem += purchase_file.Valor[i]\n",
    "    else:\n",
    "        tot_purchase_other += purchase_file.Valor[i]\n",
    "\n",
    "med_price_masc = tot_purchase_masc / tot_masc\n",
    "med_price_fem = tot_purchase_fem / tot_fem\n",
    "med_price_other = tot_purchase_other / tot_other\n",
    "\n",
    "print(f'Preço médio de compra do gênero Masculino: ${med_price_masc:.2f}')\n",
    "print(f'Preço médio de compra do gênero Feminino: ${med_price_fem:.2f}')\n",
    "print(f'Preço médio de compra do gênero Outros / Não divulgados: ${med_price_other:.2f}')"
   ]
  },
  {
   "cell_type": "code",
   "execution_count": 13,
   "metadata": {},
   "outputs": [
    {
     "name": "stdout",
     "output_type": "stream",
     "text": [
      "Valor Total de Compra do gênero Masculino: $1867.68\n",
      "Valor Total de Compra do gênero Feminino: $382.91\n",
      "Valor Total de Compra do gênero Outros / Não divulgados: $35.74\n"
     ]
    }
   ],
   "source": [
    "# - Valor Total de Compra\n",
    "\n",
    "print(f'Valor Total de Compra do gênero Masculino: ${tot_purchase_masc:.2f}')\n",
    "print(f'Valor Total de Compra do gênero Feminino: ${tot_purchase_fem:.2f}')\n",
    "print(f'Valor Total de Compra do gênero Outros / Não divulgados: ${tot_purchase_other:.2f}')"
   ]
  },
  {
   "cell_type": "code",
   "execution_count": 14,
   "metadata": {},
   "outputs": [
    {
     "name": "stdout",
     "output_type": "stream",
     "text": [
      "Compras feitas pela faixa etária Jovem (até 19 anos): 196\n",
      "Compras feitas pela faixa etária Adulta (de 20 a 59 anos): 584\n",
      "Compras feitas pela faixa etária Idosa (a partir de 60 anos): 0\n"
     ]
    }
   ],
   "source": [
    "# - Compras por faixa etária\n",
    "\n",
    "tot_purchase_young = 0\n",
    "tot_purchase_adult = 0\n",
    "tot_purchase_elderly = 0\n",
    "\n",
    "for age in purchase_file.Idade:\n",
    "    if age < 20:\n",
    "        tot_purchase_young += 1\n",
    "    elif age < 60:\n",
    "        tot_purchase_adult += 1\n",
    "    else: \n",
    "        tot_purchase_elderly += 1\n",
    "        \n",
    "print(f'Compras feitas pela faixa etária Jovem (até 19 anos): {tot_purchase_young}')\n",
    "print(f'Compras feitas pela faixa etária Adulta (de 20 a 59 anos): {tot_purchase_adult}')\n",
    "print(f'Compras feitas pela faixa etária Idosa (a partir de 60 anos): {tot_purchase_elderly}')"
   ]
  },
  {
   "cell_type": "markdown",
   "metadata": {},
   "source": [
    "## Consumidores Mais Populares (Top 5)"
   ]
  },
  {
   "cell_type": "code",
   "execution_count": 15,
   "metadata": {},
   "outputs": [],
   "source": [
    "# - Identifique os 5 principais compradores pelo valor total de compra e, em seguida, liste (em uma tabela):\n",
    "\n",
    "# - Login\n",
    "# - Número de compras\n",
    "# - Preço médio de compra\n",
    "# - Valor Total de Compra\n",
    "# - Itens mais populares"
   ]
  },
  {
   "cell_type": "code",
   "execution_count": 16,
   "metadata": {},
   "outputs": [],
   "source": [
    "def number_of_purchases(login):\n",
    "    num = 0\n",
    "    for i in range(len(purchase_file)):\n",
    "        if purchase_file.Login[i] == login:\n",
    "            num += 1\n",
    "    return num\n",
    "\n",
    "\n",
    "def purchase_average(login):\n",
    "    tot = 0\n",
    "    for i in range(len(purchase_file)):\n",
    "        if purchase_file.Login[i] == login:\n",
    "            tot += purchase_file.Valor[i]\n",
    "    tot_purchases = number_of_purchases(login)\n",
    "    average = tot / tot_purchases\n",
    "    return average\n",
    "\n",
    "\n",
    "def most_popular_item(login):\n",
    "    items = []\n",
    "    popular = ''\n",
    "    maior = 0\n",
    "    for i in range(len(purchase_file)):\n",
    "        if purchase_file.Login[i] == login:\n",
    "            items.append(purchase_file.Nome_do_Item[i])\n",
    "    \n",
    "    for i in items:\n",
    "        if items.count(i) > maior:\n",
    "            popular = i\n",
    "            maior = items.count(i)\n",
    "    \n",
    "    return popular\n",
    "\n",
    "\n",
    "def tot_value(login):\n",
    "    tot = 0\n",
    "    for i in range(len(purchase_file)):\n",
    "        if purchase_file.Login[i] == login:\n",
    "            tot += purchase_file.Valor[i]\n",
    "    \n",
    "    return tot\n",
    "\n",
    "consumers = []\n",
    "repeated = []\n",
    "\n",
    "for i in range(len(purchase_file)):\n",
    "    consumer = {}\n",
    "    if purchase_file.Login[i] not in repeated:\n",
    "        login = purchase_file.Login[i]\n",
    "        consumer = {'Login': login, \n",
    "                    'Numero_de_Compras': number_of_purchases(login),\n",
    "                    'Preco_Medio': purchase_average(login),\n",
    "                    'Valor_Total': tot_value(login),\n",
    "                    'Item_mais_popular': most_popular_item(login)}\n",
    "        repeated.append(purchase_file.Login[i])\n",
    "        consumers.append(consumer.copy())"
   ]
  },
  {
   "cell_type": "code",
   "execution_count": 17,
   "metadata": {},
   "outputs": [
    {
     "data": {
      "text/html": [
       "<div>\n",
       "<style scoped>\n",
       "    .dataframe tbody tr th:only-of-type {\n",
       "        vertical-align: middle;\n",
       "    }\n",
       "\n",
       "    .dataframe tbody tr th {\n",
       "        vertical-align: top;\n",
       "    }\n",
       "\n",
       "    .dataframe thead th {\n",
       "        text-align: right;\n",
       "    }\n",
       "</style>\n",
       "<table border=\"1\" class=\"dataframe\">\n",
       "  <thead>\n",
       "    <tr style=\"text-align: right;\">\n",
       "      <th></th>\n",
       "      <th>Item_mais_popular</th>\n",
       "      <th>Login</th>\n",
       "      <th>Numero_de_Compras</th>\n",
       "      <th>Preco_Medio</th>\n",
       "      <th>Valor_Total</th>\n",
       "    </tr>\n",
       "  </thead>\n",
       "  <tbody>\n",
       "    <tr>\n",
       "      <th>77</th>\n",
       "      <td>Blood Infused Guardian</td>\n",
       "      <td>Undirrala66</td>\n",
       "      <td>5</td>\n",
       "      <td>3.412000</td>\n",
       "      <td>17.06</td>\n",
       "    </tr>\n",
       "    <tr>\n",
       "      <th>236</th>\n",
       "      <td>Serenity</td>\n",
       "      <td>Saedue76</td>\n",
       "      <td>4</td>\n",
       "      <td>3.390000</td>\n",
       "      <td>13.56</td>\n",
       "    </tr>\n",
       "    <tr>\n",
       "      <th>376</th>\n",
       "      <td>Striker</td>\n",
       "      <td>Mindimnya67</td>\n",
       "      <td>4</td>\n",
       "      <td>3.185000</td>\n",
       "      <td>12.74</td>\n",
       "    </tr>\n",
       "    <tr>\n",
       "      <th>15</th>\n",
       "      <td>Blood-Forged Skeletal Spine</td>\n",
       "      <td>Haellysu29</td>\n",
       "      <td>3</td>\n",
       "      <td>4.243333</td>\n",
       "      <td>12.73</td>\n",
       "    </tr>\n",
       "    <tr>\n",
       "      <th>104</th>\n",
       "      <td>Heartless Bone Dualblade</td>\n",
       "      <td>Eoda93</td>\n",
       "      <td>3</td>\n",
       "      <td>3.860000</td>\n",
       "      <td>11.58</td>\n",
       "    </tr>\n",
       "  </tbody>\n",
       "</table>\n",
       "</div>"
      ],
      "text/plain": [
       "               Item_mais_popular        Login  Numero_de_Compras  Preco_Medio  \\\n",
       "77        Blood Infused Guardian  Undirrala66                  5     3.412000   \n",
       "236                     Serenity     Saedue76                  4     3.390000   \n",
       "376                      Striker  Mindimnya67                  4     3.185000   \n",
       "15   Blood-Forged Skeletal Spine   Haellysu29                  3     4.243333   \n",
       "104     Heartless Bone Dualblade       Eoda93                  3     3.860000   \n",
       "\n",
       "     Valor_Total  \n",
       "77         17.06  \n",
       "236        13.56  \n",
       "376        12.74  \n",
       "15         12.73  \n",
       "104        11.58  "
      ]
     },
     "execution_count": 17,
     "metadata": {},
     "output_type": "execute_result"
    }
   ],
   "source": [
    "best_consumers = pd.DataFrame(consumers).sort_values(by='Valor_Total', ascending=False)[:5]\n",
    "best_consumers"
   ]
  },
  {
   "cell_type": "markdown",
   "metadata": {},
   "source": [
    "## Itens Mais Populares"
   ]
  },
  {
   "cell_type": "code",
   "execution_count": 18,
   "metadata": {},
   "outputs": [],
   "source": [
    "# - Identifique os 5 itens mais populares por contagem de compras e, em seguida, liste (em uma tabela):\n",
    "\n",
    "# - ID do item\n",
    "# - Nome do item\n",
    "# - Número de compras\n",
    "# - Preço do item\n",
    "# - Valor Total de Compra\n",
    "# - Itens mais lucrativos"
   ]
  },
  {
   "cell_type": "code",
   "execution_count": 19,
   "metadata": {},
   "outputs": [],
   "source": [
    "items = []\n",
    "repeated = []\n",
    "\n",
    "def number_of_purchases(item_id):\n",
    "    n = 0\n",
    "    for i in range(len(purchase_file)):\n",
    "        if purchase_file.Item_ID[i] == item_id:\n",
    "            n += 1\n",
    "            \n",
    "    return n\n",
    "\n",
    "for i in range(len(purchase_file)):\n",
    "    item = {}\n",
    "    if purchase_file.Item_ID[i] not in repeated:\n",
    "        item_id = purchase_file.Item_ID[i]\n",
    "        item = {'ID_do_Item': item_id,\n",
    "                'Nome_do_Item': purchase_file.Nome_do_Item[i],\n",
    "                'Numero_de_Compras': number_of_purchases(item_id),\n",
    "                'Preco_do_Item': purchase_file.Valor[i],\n",
    "                'Valor_Total_de_Compra': purchase_file.Valor[i] * number_of_purchases(item_id)}\n",
    "        repeated.append(purchase_file.Item_ID[i])\n",
    "        items.append(item.copy())"
   ]
  },
  {
   "cell_type": "code",
   "execution_count": 20,
   "metadata": {},
   "outputs": [
    {
     "data": {
      "text/html": [
       "<div>\n",
       "<style scoped>\n",
       "    .dataframe tbody tr th:only-of-type {\n",
       "        vertical-align: middle;\n",
       "    }\n",
       "\n",
       "    .dataframe tbody tr th {\n",
       "        vertical-align: top;\n",
       "    }\n",
       "\n",
       "    .dataframe thead th {\n",
       "        text-align: right;\n",
       "    }\n",
       "</style>\n",
       "<table border=\"1\" class=\"dataframe\">\n",
       "  <thead>\n",
       "    <tr style=\"text-align: right;\">\n",
       "      <th></th>\n",
       "      <th>ID_do_Item</th>\n",
       "      <th>Nome_do_Item</th>\n",
       "      <th>Numero_de_Compras</th>\n",
       "      <th>Preco_do_Item</th>\n",
       "      <th>Valor_Total_de_Compra</th>\n",
       "    </tr>\n",
       "  </thead>\n",
       "  <tbody>\n",
       "    <tr>\n",
       "      <th>53</th>\n",
       "      <td>39</td>\n",
       "      <td>Betrayal, Whisper of Grieving Widows</td>\n",
       "      <td>11</td>\n",
       "      <td>2.35</td>\n",
       "      <td>25.85</td>\n",
       "    </tr>\n",
       "    <tr>\n",
       "      <th>88</th>\n",
       "      <td>84</td>\n",
       "      <td>Arcane Gem</td>\n",
       "      <td>11</td>\n",
       "      <td>2.23</td>\n",
       "      <td>24.53</td>\n",
       "    </tr>\n",
       "    <tr>\n",
       "      <th>68</th>\n",
       "      <td>175</td>\n",
       "      <td>Woeful Adamantite Claymore</td>\n",
       "      <td>9</td>\n",
       "      <td>1.24</td>\n",
       "      <td>11.16</td>\n",
       "    </tr>\n",
       "    <tr>\n",
       "      <th>33</th>\n",
       "      <td>13</td>\n",
       "      <td>Serenity</td>\n",
       "      <td>9</td>\n",
       "      <td>1.49</td>\n",
       "      <td>13.41</td>\n",
       "    </tr>\n",
       "    <tr>\n",
       "      <th>49</th>\n",
       "      <td>31</td>\n",
       "      <td>Trickster</td>\n",
       "      <td>9</td>\n",
       "      <td>2.07</td>\n",
       "      <td>18.63</td>\n",
       "    </tr>\n",
       "  </tbody>\n",
       "</table>\n",
       "</div>"
      ],
      "text/plain": [
       "    ID_do_Item                          Nome_do_Item  Numero_de_Compras  \\\n",
       "53          39  Betrayal, Whisper of Grieving Widows                 11   \n",
       "88          84                            Arcane Gem                 11   \n",
       "68         175            Woeful Adamantite Claymore                  9   \n",
       "33          13                              Serenity                  9   \n",
       "49          31                             Trickster                  9   \n",
       "\n",
       "    Preco_do_Item  Valor_Total_de_Compra  \n",
       "53           2.35                  25.85  \n",
       "88           2.23                  24.53  \n",
       "68           1.24                  11.16  \n",
       "33           1.49                  13.41  \n",
       "49           2.07                  18.63  "
      ]
     },
     "execution_count": 20,
     "metadata": {},
     "output_type": "execute_result"
    }
   ],
   "source": [
    "most_popular_items = pd.DataFrame(items).sort_values(by='Numero_de_Compras', ascending=False)[:5]\n",
    "most_popular_items"
   ]
  },
  {
   "cell_type": "markdown",
   "metadata": {},
   "source": [
    "## Itens Mais Lucrativos"
   ]
  },
  {
   "cell_type": "code",
   "execution_count": 21,
   "metadata": {},
   "outputs": [],
   "source": [
    "# - Identifique os 5 itens mais lucrativos pelo valor total de compra e, em seguida, liste (em uma tabela):\n",
    "\n",
    "# - ID do item\n",
    "# - Nome do item\n",
    "# - Número de compras\n",
    "# - Preço do item\n",
    "# - Valor Total de Compra"
   ]
  },
  {
   "cell_type": "code",
   "execution_count": 22,
   "metadata": {},
   "outputs": [],
   "source": [
    "items = []\n",
    "repeated = []\n",
    "\n",
    "def number_of_purchases(item_id):\n",
    "    n = 0\n",
    "    for i in range(len(purchase_file)):\n",
    "        if purchase_file.Item_ID[i] == item_id:\n",
    "            n += 1\n",
    "            \n",
    "    return n\n",
    "\n",
    "for i in range(len(purchase_file)):\n",
    "    item = {}\n",
    "    if purchase_file.Item_ID[i] not in repeated:\n",
    "        item_id = purchase_file.Item_ID[i]\n",
    "        item = {'ID_do_Item': item_id,\n",
    "                'Nome_do_Item': purchase_file.Nome_do_Item[i],\n",
    "                'Numero_de_Compras': number_of_purchases(item_id),\n",
    "                'Preco_do_Item': purchase_file.Valor[i],\n",
    "                'Valor_Total_de_Compra': purchase_file.Valor[i] * number_of_purchases(item_id)}\n",
    "        repeated.append(purchase_file.Item_ID[i])\n",
    "        items.append(item.copy())"
   ]
  },
  {
   "cell_type": "code",
   "execution_count": 23,
   "metadata": {},
   "outputs": [
    {
     "data": {
      "text/html": [
       "<div>\n",
       "<style scoped>\n",
       "    .dataframe tbody tr th:only-of-type {\n",
       "        vertical-align: middle;\n",
       "    }\n",
       "\n",
       "    .dataframe tbody tr th {\n",
       "        vertical-align: top;\n",
       "    }\n",
       "\n",
       "    .dataframe thead th {\n",
       "        text-align: right;\n",
       "    }\n",
       "</style>\n",
       "<table border=\"1\" class=\"dataframe\">\n",
       "  <thead>\n",
       "    <tr style=\"text-align: right;\">\n",
       "      <th></th>\n",
       "      <th>ID_do_Item</th>\n",
       "      <th>Nome_do_Item</th>\n",
       "      <th>Numero_de_Compras</th>\n",
       "      <th>Preco_do_Item</th>\n",
       "      <th>Valor_Total_de_Compra</th>\n",
       "    </tr>\n",
       "  </thead>\n",
       "  <tbody>\n",
       "    <tr>\n",
       "      <th>50</th>\n",
       "      <td>34</td>\n",
       "      <td>Retribution Axe</td>\n",
       "      <td>9</td>\n",
       "      <td>4.14</td>\n",
       "      <td>37.26</td>\n",
       "    </tr>\n",
       "    <tr>\n",
       "      <th>84</th>\n",
       "      <td>115</td>\n",
       "      <td>Spectral Diamond Doomblade</td>\n",
       "      <td>7</td>\n",
       "      <td>4.25</td>\n",
       "      <td>29.75</td>\n",
       "    </tr>\n",
       "    <tr>\n",
       "      <th>45</th>\n",
       "      <td>32</td>\n",
       "      <td>Orenmir</td>\n",
       "      <td>6</td>\n",
       "      <td>4.95</td>\n",
       "      <td>29.70</td>\n",
       "    </tr>\n",
       "    <tr>\n",
       "      <th>79</th>\n",
       "      <td>103</td>\n",
       "      <td>Singed Scalpel</td>\n",
       "      <td>6</td>\n",
       "      <td>4.87</td>\n",
       "      <td>29.22</td>\n",
       "    </tr>\n",
       "    <tr>\n",
       "      <th>112</th>\n",
       "      <td>107</td>\n",
       "      <td>Splitter, Foe Of Subtlety</td>\n",
       "      <td>8</td>\n",
       "      <td>3.61</td>\n",
       "      <td>28.88</td>\n",
       "    </tr>\n",
       "  </tbody>\n",
       "</table>\n",
       "</div>"
      ],
      "text/plain": [
       "     ID_do_Item                Nome_do_Item  Numero_de_Compras  Preco_do_Item  \\\n",
       "50           34             Retribution Axe                  9           4.14   \n",
       "84          115  Spectral Diamond Doomblade                  7           4.25   \n",
       "45           32                     Orenmir                  6           4.95   \n",
       "79          103              Singed Scalpel                  6           4.87   \n",
       "112         107   Splitter, Foe Of Subtlety                  8           3.61   \n",
       "\n",
       "     Valor_Total_de_Compra  \n",
       "50                   37.26  \n",
       "84                   29.75  \n",
       "45                   29.70  \n",
       "79                   29.22  \n",
       "112                  28.88  "
      ]
     },
     "execution_count": 23,
     "metadata": {},
     "output_type": "execute_result"
    }
   ],
   "source": [
    "best_items = pd.DataFrame(items).sort_values(by='Valor_Total_de_Compra', ascending=False)[:5]\n",
    "best_items"
   ]
  },
  {
   "cell_type": "markdown",
   "metadata": {
    "collapsed": true
   },
   "source": [
    "## Fim"
   ]
  },
  {
   "cell_type": "markdown",
   "metadata": {
    "collapsed": true
   },
   "source": [
    "### Obrigado - Data Science Academy - <a href=\"http://facebook.com/dsacademybr\">facebook.com/dsacademybr</a>"
   ]
  }
 ],
 "metadata": {
  "kernelspec": {
   "display_name": "Python 3",
   "language": "python",
   "name": "python3"
  },
  "language_info": {
   "codemirror_mode": {
    "name": "ipython",
    "version": 3
   },
   "file_extension": ".py",
   "mimetype": "text/x-python",
   "name": "python",
   "nbconvert_exporter": "python",
   "pygments_lexer": "ipython3",
   "version": "3.6.5"
  }
 },
 "nbformat": 4,
 "nbformat_minor": 2
}
