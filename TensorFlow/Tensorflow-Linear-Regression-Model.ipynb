{
 "cells": [
  {
   "cell_type": "markdown",
   "metadata": {},
   "source": [
    "# Construindo um Modelo de Regressão Linear com TensorFlow"
   ]
  },
  {
   "cell_type": "code",
   "execution_count": 2,
   "metadata": {},
   "outputs": [],
   "source": [
    "# Imports\n",
    "import tensorflow as tf\n",
    "import numpy as np\n",
    "import matplotlib.pyplot as plt\n",
    "%matplotlib inline\n",
    "\n",
    "# Warnings\n",
    "import warnings as wn\n",
    "wn.filterwarnings('ignore')"
   ]
  },
  {
   "cell_type": "markdown",
   "metadata": {},
   "source": [
    "## Definindo os hyperparâmetros do modelo"
   ]
  },
  {
   "cell_type": "code",
   "execution_count": 22,
   "metadata": {},
   "outputs": [],
   "source": [
    "# Hyperparâmetros do modelo\n",
    "learning_rate = 0.01\n",
    "training_epochs = 10000\n",
    "display_step = 200"
   ]
  },
  {
   "cell_type": "markdown",
   "metadata": {},
   "source": [
    "## Definindo os datasets de treino e de teste\n",
    "\n",
    "## Considere X como o tamanho de uma casa e y o preço de uma casa"
   ]
  },
  {
   "cell_type": "code",
   "execution_count": 24,
   "metadata": {},
   "outputs": [],
   "source": [
    "# Dataset de treino\n",
    "train_X = np.asarray([3.3,4.4,5.5,6.71,6.93,4.168,9.779,6.182,7.59,2.167,7.042,10.791,5.313,7.997,5.654,9.27,3.1])\n",
    "train_y = np.asarray([1.7,2.76,2.09,3.19,1.694,1.573,3.366,2.596,2.53,1.221,2.827,3.465,1.65,2.904,2.42,2.94,1.3])\n",
    "n_samples = train_X.shape[0]\n",
    " \n",
    "# Dataset de teste\n",
    "test_X = np.asarray([6.83, 4.668, 8.9, 7.91, 5.7, 8.7, 3.1, 2.1])\n",
    "test_y = np.asarray([1.84, 2.273, 3.2, 2.831, 2.92, 3.24, 1.35, 1.03])"
   ]
  },
  {
   "cell_type": "markdown",
   "metadata": {},
   "source": [
    "## Placeholders e variáveis"
   ]
  },
  {
   "cell_type": "code",
   "execution_count": 25,
   "metadata": {},
   "outputs": [],
   "source": [
    "# Placeholders para as variáveis preditoras (x) e para variável target (y)\n",
    "X = tf.placeholder(tf.float32)\n",
    "y = tf.placeholder(tf.float32)\n",
    "\n",
    "# Pesos e bias do modelo\n",
    "W = tf.Variable(np.random.randn(), name='weight')\n",
    "b = tf.Variable(np.random.randn(), name='bias')"
   ]
  },
  {
   "cell_type": "markdown",
   "metadata": {},
   "source": [
    "## Construindo o modelo"
   ]
  },
  {
   "cell_type": "code",
   "execution_count": 26,
   "metadata": {},
   "outputs": [],
   "source": [
    "# Construindo o modelo linear\n",
    "# Fórmula do modelo linear: y = W*X + b\n",
    "linear_model = W*X + b\n",
    "\n",
    "# Mean squared error (erro quadrado médio)\n",
    "cost = tf.reduce_sum(tf.square(linear_model - y)) / (2*n_samples)\n",
    "\n",
    "# Otimização com Gradient descent\n",
    "optimizer = tf.train.GradientDescentOptimizer(learning_rate).minimize(cost)"
   ]
  },
  {
   "cell_type": "markdown",
   "metadata": {},
   "source": [
    "## Executando o grafo computacional, treinando e testando o modelo"
   ]
  },
  {
   "cell_type": "code",
   "execution_count": 27,
   "metadata": {},
   "outputs": [
    {
     "name": "stdout",
     "output_type": "stream",
     "text": [
      "Epoch:   200 \t Cost:     0.148 \t W:0.1004 \t b: 1.871\n",
      "Epoch:   400 \t Cost:    0.1207 \t W:0.1331 \t b:  1.64\n",
      "Epoch:   600 \t Cost:    0.1038 \t W:0.1586 \t b: 1.458\n",
      "Epoch:   800 \t Cost:   0.09349 \t W:0.1787 \t b: 1.316\n",
      "Epoch:  1000 \t Cost:   0.08711 \t W:0.1944 \t b: 1.204\n",
      "Epoch:  1200 \t Cost:    0.0832 \t W:0.2068 \t b: 1.117\n",
      "Epoch:  1400 \t Cost:   0.08078 \t W:0.2164 \t b: 1.048\n",
      "Epoch:  1600 \t Cost:    0.0793 \t W: 0.224 \t b:0.9945\n",
      "Epoch:  1800 \t Cost:   0.07839 \t W:  0.23 \t b:0.9523\n",
      "Epoch:  2000 \t Cost:   0.07783 \t W:0.2347 \t b:0.9192\n",
      "Epoch:  2200 \t Cost:   0.07748 \t W:0.2383 \t b:0.8932\n",
      "Epoch:  2400 \t Cost:   0.07727 \t W:0.2412 \t b:0.8729\n",
      "Epoch:  2600 \t Cost:   0.07714 \t W:0.2434 \t b:0.8569\n",
      "Epoch:  2800 \t Cost:   0.07706 \t W:0.2452 \t b:0.8444\n",
      "Epoch:  3000 \t Cost:   0.07701 \t W:0.2466 \t b:0.8345\n",
      "Epoch:  3200 \t Cost:   0.07698 \t W:0.2477 \t b:0.8268\n",
      "Epoch:  3400 \t Cost:   0.07696 \t W:0.2485 \t b:0.8208\n",
      "Epoch:  3600 \t Cost:   0.07695 \t W:0.2492 \t b: 0.816\n",
      "Epoch:  3800 \t Cost:   0.07694 \t W:0.2497 \t b:0.8123\n",
      "Epoch:  4000 \t Cost:   0.07694 \t W:0.2501 \t b:0.8094\n",
      "Epoch:  4200 \t Cost:   0.07693 \t W:0.2505 \t b:0.8071\n",
      "Epoch:  4400 \t Cost:   0.07693 \t W:0.2507 \t b:0.8053\n",
      "Epoch:  4600 \t Cost:   0.07693 \t W:0.2509 \t b:0.8039\n",
      "Epoch:  4800 \t Cost:   0.07693 \t W:0.2511 \t b:0.8028\n",
      "Epoch:  5000 \t Cost:   0.07693 \t W:0.2512 \t b: 0.802\n",
      "Epoch:  5200 \t Cost:   0.07693 \t W:0.2513 \t b:0.8013\n",
      "Epoch:  5400 \t Cost:   0.07693 \t W:0.2514 \t b:0.8007\n",
      "Epoch:  5600 \t Cost:   0.07693 \t W:0.2514 \t b:0.8003\n",
      "Epoch:  5800 \t Cost:   0.07693 \t W:0.2515 \t b:   0.8\n",
      "Epoch:  6000 \t Cost:   0.07693 \t W:0.2515 \t b:0.7997\n",
      "Epoch:  6200 \t Cost:   0.07693 \t W:0.2515 \t b:0.7995\n",
      "Epoch:  6400 \t Cost:   0.07693 \t W:0.2516 \t b:0.7994\n",
      "Epoch:  6600 \t Cost:   0.07693 \t W:0.2516 \t b:0.7993\n",
      "Epoch:  6800 \t Cost:   0.07693 \t W:0.2516 \t b:0.7992\n",
      "Epoch:  7000 \t Cost:   0.07693 \t W:0.2516 \t b:0.7991\n",
      "Epoch:  7200 \t Cost:   0.07693 \t W:0.2516 \t b: 0.799\n",
      "Epoch:  7400 \t Cost:   0.07693 \t W:0.2516 \t b: 0.799\n",
      "Epoch:  7600 \t Cost:   0.07693 \t W:0.2516 \t b:0.7989\n",
      "Epoch:  7800 \t Cost:   0.07693 \t W:0.2516 \t b:0.7989\n",
      "Epoch:  8000 \t Cost:   0.07693 \t W:0.2516 \t b:0.7989\n",
      "Epoch:  8200 \t Cost:   0.07693 \t W:0.2516 \t b:0.7989\n",
      "Epoch:  8400 \t Cost:   0.07693 \t W:0.2516 \t b:0.7989\n",
      "Epoch:  8600 \t Cost:   0.07693 \t W:0.2516 \t b:0.7988\n",
      "Epoch:  8800 \t Cost:   0.07693 \t W:0.2516 \t b:0.7988\n",
      "Epoch:  9000 \t Cost:   0.07693 \t W:0.2516 \t b:0.7988\n",
      "Epoch:  9200 \t Cost:   0.07693 \t W:0.2516 \t b:0.7988\n",
      "Epoch:  9400 \t Cost:   0.07693 \t W:0.2516 \t b:0.7988\n",
      "Epoch:  9600 \t Cost:   0.07693 \t W:0.2516 \t b:0.7988\n",
      "Epoch:  9800 \t Cost:   0.07693 \t W:0.2516 \t b:0.7988\n",
      "Epoch: 10000 \t Cost:   0.07693 \t W:0.2516 \t b:0.7988\n",
      "\n",
      "Otimização Concluída!\n",
      "Custo Final de Treinamento: 0.07692883  - W Final: 0.25163135  - b Final: 0.7988265 \n",
      "\n"
     ]
    },
    {
     "data": {
      "image/png": "[encoded data removed]",
      "text/plain": [
       "<Figure size 432x288 with 1 Axes>"
      ]
     },
     "metadata": {
      "needs_background": "light"
     },
     "output_type": "display_data"
    },
    {
     "data": {
      "image/png": "[encoded data removed]",
      "text/plain": [
       "<Figure size 432x288 with 1 Axes>"
      ]
     },
     "metadata": {
      "needs_background": "light"
     },
     "output_type": "display_data"
    }
   ],
   "source": [
    "# Definindo a inicialização das variáveis\n",
    "init = tf.global_variables_initializer()\n",
    "\n",
    "# Iniciando a sessão\n",
    "with tf.Session() as sess:\n",
    "    # Iniciando as variáveis\n",
    "    sess.run(init)\n",
    "    \n",
    "    # Treinamento do modelo\n",
    "    for epoch in range(training_epochs):\n",
    "\n",
    "        # Otimização com Gradient Descent\n",
    "        sess.run(optimizer, feed_dict={X: train_X, y: train_y})\n",
    "\n",
    "        # Display de cada epoch\n",
    "        if (epoch+1) % display_step == 0:\n",
    "            c = sess.run(cost, feed_dict={X: train_X, y: train_y})\n",
    "            print('Epoch:{0:6} \\t Cost:{1:10.4} \\t W:{2:6.4} \\t b:{3:6.4}'.format(epoch+1, c, sess.run(W), sess.run(b)))\n",
    "\n",
    "    # Imprimindo os parâmetros finais do modelo\n",
    "    print('\\nOtimização Concluída!')\n",
    "    training_cost = sess.run(cost, feed_dict={X: train_X, y: train_y})\n",
    "    print('Custo Final de Treinamento:', training_cost, ' - W Final:', sess.run(W), \" - b Final:\", sess.run(b), '\\n')\n",
    "\n",
    "    # Visualizando o resultado\n",
    "    plt.plot(train_X, train_y, 'ro', label='Dados Originais')\n",
    "    plt.plot(train_X, sess.run(W) * train_X + sess.run(b), label='Linha de Regressão')\n",
    "    plt.legend()\n",
    "    plt.show()\n",
    "\n",
    "    # Testando o modelo\n",
    "    testing_cost = sess.run(tf.reduce_sum(tf.square(linear_model - y)) / (2 * test_X.shape[0]),\n",
    "                            feed_dict={X: test_X, y: test_y})\n",
    "\n",
    "    # Display em Teste\n",
    "    plt.plot(test_X, test_y, 'bo', label='Dados de Teste')\n",
    "    plt.plot(train_X, sess.run(W) * train_X + sess.run(b), label='Linha de Regressão')\n",
    "    plt.legend()\n",
    "    plt.show()\n",
    "\n",
    "sess.close()\n"
   ]
  },
  {
   "cell_type": "code",
   "execution_count": null,
   "metadata": {},
   "outputs": [],
   "source": []
  }
 ],
 "metadata": {
  "kernelspec": {
   "display_name": "Python 3",
   "language": "python",
   "name": "python3"
  },
  "language_info": {
   "codemirror_mode": {
    "name": "ipython",
    "version": 3
   },
   "file_extension": ".py",
   "mimetype": "text/x-python",
   "name": "python",
   "nbconvert_exporter": "python",
   "pygments_lexer": "ipython3",
   "version": "3.6.9"
  }
 },
 "nbformat": 4,
 "nbformat_minor": 2
}
